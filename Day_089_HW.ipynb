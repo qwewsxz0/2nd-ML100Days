{
 "cells": [
  {
   "cell_type": "markdown",
   "metadata": {},
   "source": [
    "## 範例重點\n",
    "* 學習如何在 keras 中撰寫自定義的 loss function\n",
    "* 知道如何在訓練時使用自定義的 loss function"
   ]
  },
  {
   "cell_type": "code",
   "execution_count": 3,
   "metadata": {},
   "outputs": [],
   "source": [
    "import os\n",
    "import keras\n",
    "\n",
    "# # 本範例不需使用 GPU, 將 GPU 設定為 \"無\"\n",
    "# os.environ[\"CUDA_VISIBLE_DEVICES\"] = \"\"\n",
    "#Blas GEMM launch failed , 避免動態分配GPU / CPU, 出現問題\n",
    "import tensorflow as tf\n",
    "gpu_options = tf.GPUOptions(per_process_gpu_memory_fraction=0.333)\n",
    "sess = tf.Session(config=tf.ConfigProto(gpu_options=gpu_options))"
   ]
  },
  {
   "cell_type": "code",
   "execution_count": 4,
   "metadata": {},
   "outputs": [],
   "source": [
    "train, test = keras.datasets.cifar10.load_data()"
   ]
  },
  {
   "cell_type": "code",
   "execution_count": 5,
   "metadata": {},
   "outputs": [],
   "source": [
    "## 資料前處理\n",
    "def preproc_x(x, flatten=True):\n",
    "    x = x / 255.\n",
    "    if flatten:\n",
    "        x = x.reshape((len(x), -1))\n",
    "    return x\n",
    "\n",
    "def preproc_y(y, num_classes=10):\n",
    "    if y.shape[-1] == 1:\n",
    "        y = keras.utils.to_categorical(y, num_classes)\n",
    "    return y    "
   ]
  },
  {
   "cell_type": "code",
   "execution_count": 6,
   "metadata": {},
   "outputs": [],
   "source": [
    "x_train, y_train = train\n",
    "x_test, y_test = test\n",
    "\n",
    "# 資料前處理 - X 標準化\n",
    "x_train = preproc_x(x_train)\n",
    "x_test = preproc_x(x_test)\n",
    "\n",
    "# 資料前處理 -Y 轉成 onehot\n",
    "y_train = preproc_y(y_train)\n",
    "y_test = preproc_y(y_test)"
   ]
  },
  {
   "cell_type": "code",
   "execution_count": 7,
   "metadata": {},
   "outputs": [
    {
     "data": {
      "text/plain": [
       "array([[0., 0., 0., ..., 0., 0., 0.],\n",
       "       [0., 0., 0., ..., 0., 1., 0.],\n",
       "       [0., 0., 0., ..., 0., 1., 0.],\n",
       "       ...,\n",
       "       [0., 0., 0., ..., 0., 0., 0.],\n",
       "       [0., 1., 0., ..., 0., 0., 0.],\n",
       "       [0., 0., 0., ..., 1., 0., 0.]], dtype=float32)"
      ]
     },
     "execution_count": 7,
     "metadata": {},
     "output_type": "execute_result"
    }
   ],
   "source": [
    "y_test"
   ]
  },
  {
   "cell_type": "code",
   "execution_count": 8,
   "metadata": {},
   "outputs": [],
   "source": [
    "from keras.layers import BatchNormalization\n",
    "\n",
    "\"\"\"\n",
    "建立神經網路，並加入 BN layer\n",
    "\"\"\"\n",
    "def build_mlp(input_shape, output_units=10, num_neurons=[512, 256, 128]):\n",
    "    input_layer = keras.layers.Input(input_shape)\n",
    "    \n",
    "    for i, n_units in enumerate(num_neurons):\n",
    "        if i == 0:\n",
    "            x = keras.layers.Dense(units=n_units, \n",
    "                                   activation=\"relu\", \n",
    "                                   name=\"hidden_layer\"+str(i+1))(input_layer)\n",
    "            x = BatchNormalization()(x)\n",
    "        else:\n",
    "            x = keras.layers.Dense(units=n_units, \n",
    "                                   activation=\"relu\", \n",
    "                                   name=\"hidden_layer\"+str(i+1))(x)\n",
    "            x = BatchNormalization()(x)\n",
    "    \n",
    "    out = keras.layers.Dense(units=output_units, activation=\"softmax\", name=\"output\")(x)\n",
    "    \n",
    "    model = keras.models.Model(inputs=[input_layer], outputs=[out])\n",
    "    return model"
   ]
  },
  {
   "cell_type": "code",
   "execution_count": 9,
   "metadata": {},
   "outputs": [],
   "source": [
    "## 超參數設定\n",
    "LEARNING_RATE = 1e-3\n",
    "EPOCHS = 50\n",
    "BATCH_SIZE = 1024\n",
    "MOMENTUM = 0.95"
   ]
  },
  {
   "cell_type": "code",
   "execution_count": 19,
   "metadata": {},
   "outputs": [],
   "source": [
    "import tensorflow as tf\n",
    "import keras.backend as K\n",
    "\n",
    "\"\"\"\n",
    "# 撰寫自定義的 loss function: focal loss (https://blog.csdn.net/u014380165/article/details/77019084)\n",
    "\"\"\"\n",
    "\n",
    "def focal_loss(gamma=2., alpha=4.):\n",
    "    gamma = float(gamma)\n",
    "    alpha = float(alpha)\n",
    "    def focal_loss_fixed(y_true, y_pred):\n",
    "        \"\"\"Focal loss for multi-classification\n",
    "        FL(p_t)=-alpha(1-p_t)^{gamma}ln(p_t)\n",
    "        \"\"\"\n",
    "        categorical_crossentropy_ = K.categorical_crossentropy(y_true, y_pred)\n",
    "        epsilon = 1e-8\n",
    "        y_true = tf.convert_to_tensor(y_true, tf.float32)\n",
    "        y_pred = tf.convert_to_tensor(y_pred, tf.float32)\n",
    "\n",
    "        model_out = tf.add(y_pred, epsilon)\n",
    "        ce = tf.multiply(y_true, -tf.log(model_out))\n",
    "        weight = tf.multiply(y_true, tf.pow(tf.subtract(1., model_out), gamma))\n",
    "        fl = tf.multiply(alpha, tf.multiply(weight, ce))\n",
    "        reduced_fl = tf.reduce_max(fl, axis=1)\n",
    "        return 0.7*tf.reduce_mean(reduced_fl) + 0.3*categorical_crossentropy_\n",
    "    \n",
    "#     def categorical_crossentropy_(y_true, y_pred):\n",
    "#         return K.categorical_crossentropy(y_true, y_pred)\n",
    "    \n",
    "#     def comb(y_true, y_pred):\n",
    "#         y_true = tf.convert_to_tensor(y_true, tf.float32)\n",
    "#         y_pred = tf.convert_to_tensor(y_pred, tf.float32)\n",
    "#         b = focal_loss_fixed(y_true, y_pred)+categorical_crossentropy_(y_true, y_pred)\n",
    "#         return b\n",
    "    return focal_loss_fixed"
   ]
  },
  {
   "cell_type": "code",
   "execution_count": 20,
   "metadata": {},
   "outputs": [],
   "source": [
    "from keras.callbacks import Callback\n",
    "from sklearn.metrics import f1_score\n",
    "from sklearn.metrics import confusion_matrix\n",
    "class extract(Callback):\n",
    "    def on_train_begin(self, epoch, logs = {}):\n",
    "        logs = logs or {}\n",
    "        record_items = [\"val_auc\", \"val_f1sc\", \"val_fp\", \"val_fn\", \"val_tp\", \"val_tn\"]\n",
    "        for i in record_items:\n",
    "            if i not in self.params['metrics']:\n",
    "                self.params['metrics'].append(i)\n",
    "    \n",
    "    def on_epoch_end(self, epoch, logs = {}, thres=0.5):\n",
    "        logs = logs or {}\n",
    "        y_true = self.validation_data[1].argmax(axis = 1)\n",
    "        print(self.validation_data[1])\n",
    "        print(y_true)\n",
    "        y_pred = self.model.predict(self.validation_data[0])\n",
    "        print(K.categorical_crossentropy(y_true, y_pred))\n",
    "        y_pred_code = []\n",
    "\n",
    "        for i in range (0,y_pred.shape[0]):\n",
    "            y_pred_code.append((y_pred[i].tolist().index(max(y_pred[i]))))\n",
    "#         print(confusion_matrix(y_true, y_pred_code)) \n",
    "#         print(confusion_matrix(y_true, y_pred_code).shape)\n",
    "#         print(confusion_matrix(y_true, y_pred_code).diagonal().sum())\n",
    "        logs[\"val_tp\"] = confusion_matrix(y_true, y_pred_code).diagonal().sum()\n",
    "        logs[\"val_tn\"] = y_pred.shape[0]-confusion_matrix(y_true, y_pred_code).diagonal().sum()\n",
    "log_extract = extract()"
   ]
  },
  {
   "cell_type": "code",
   "execution_count": 21,
   "metadata": {
    "scrolled": true
   },
   "outputs": [
    {
     "name": "stdout",
     "output_type": "stream",
     "text": [
      "Model: \"model_4\"\n",
      "_________________________________________________________________\n",
      "Layer (type)                 Output Shape              Param #   \n",
      "=================================================================\n",
      "input_4 (InputLayer)         (None, 3072)              0         \n",
      "_________________________________________________________________\n",
      "hidden_layer1 (Dense)        (None, 512)               1573376   \n",
      "_________________________________________________________________\n",
      "batch_normalization_10 (Batc (None, 512)               2048      \n",
      "_________________________________________________________________\n",
      "hidden_layer2 (Dense)        (None, 256)               131328    \n",
      "_________________________________________________________________\n",
      "batch_normalization_11 (Batc (None, 256)               1024      \n",
      "_________________________________________________________________\n",
      "hidden_layer3 (Dense)        (None, 128)               32896     \n",
      "_________________________________________________________________\n",
      "batch_normalization_12 (Batc (None, 128)               512       \n",
      "_________________________________________________________________\n",
      "output (Dense)               (None, 10)                1290      \n",
      "=================================================================\n",
      "Total params: 1,742,474\n",
      "Trainable params: 1,740,682\n",
      "Non-trainable params: 1,792\n",
      "_________________________________________________________________\n",
      "Train on 50000 samples, validate on 10000 samples\n",
      "Epoch 1/50\n",
      "50000/50000 [==============================] - 3s 66us/step - loss: 4.9469 - acc: 0.3206 - val_loss: 5.0957 - val_acc: 0.3276\n",
      "Epoch 2/50\n",
      "50000/50000 [==============================] - 2s 48us/step - loss: 3.6095 - acc: 0.4421 - val_loss: 4.0689 - val_acc: 0.3881\n",
      "Epoch 3/50\n",
      "50000/50000 [==============================] - 3s 51us/step - loss: 3.2643 - acc: 0.4810 - val_loss: 3.5504 - val_acc: 0.4411\n",
      "Epoch 4/50\n",
      "50000/50000 [==============================] - 3s 52us/step - loss: 3.0508 - acc: 0.5051 - val_loss: 3.4206 - val_acc: 0.4564\n",
      "Epoch 5/50\n",
      "50000/50000 [==============================] - 3s 52us/step - loss: 2.8824 - acc: 0.5270 - val_loss: 3.3672 - val_acc: 0.4622\n",
      "Epoch 6/50\n",
      "50000/50000 [==============================] - 3s 50us/step - loss: 2.7296 - acc: 0.5477 - val_loss: 3.3862 - val_acc: 0.4567\n",
      "Epoch 7/50\n",
      "50000/50000 [==============================] - 2s 50us/step - loss: 2.6067 - acc: 0.5645 - val_loss: 3.2327 - val_acc: 0.4813\n",
      "Epoch 8/50\n",
      "50000/50000 [==============================] - 3s 50us/step - loss: 2.4836 - acc: 0.5792 - val_loss: 3.2720 - val_acc: 0.4738\n",
      "Epoch 9/50\n",
      "50000/50000 [==============================] - 3s 52us/step - loss: 2.3833 - acc: 0.5947 - val_loss: 3.2805 - val_acc: 0.4702\n",
      "Epoch 10/50\n",
      "50000/50000 [==============================] - 3s 53us/step - loss: 2.2847 - acc: 0.6089 - val_loss: 3.1846 - val_acc: 0.4835\n",
      "Epoch 11/50\n",
      "50000/50000 [==============================] - 3s 50us/step - loss: 2.1787 - acc: 0.6239 - val_loss: 3.2709 - val_acc: 0.4752\n",
      "Epoch 12/50\n",
      "50000/50000 [==============================] - 2s 49us/step - loss: 2.0833 - acc: 0.6391 - val_loss: 3.1573 - val_acc: 0.4913\n",
      "Epoch 13/50\n",
      "50000/50000 [==============================] - 2s 49us/step - loss: 1.9871 - acc: 0.6514 - val_loss: 3.2762 - val_acc: 0.4741\n",
      "Epoch 14/50\n",
      "50000/50000 [==============================] - 3s 53us/step - loss: 1.8989 - acc: 0.6647 - val_loss: 3.2356 - val_acc: 0.4856\n",
      "Epoch 15/50\n",
      "50000/50000 [==============================] - 3s 52us/step - loss: 1.8107 - acc: 0.6774 - val_loss: 3.2265 - val_acc: 0.4862\n",
      "Epoch 16/50\n",
      "50000/50000 [==============================] - 2s 49us/step - loss: 1.7182 - acc: 0.6897 - val_loss: 3.2819 - val_acc: 0.4839\n",
      "Epoch 17/50\n",
      "50000/50000 [==============================] - 2s 49us/step - loss: 1.6317 - acc: 0.7029 - val_loss: 3.2899 - val_acc: 0.4861\n",
      "Epoch 18/50\n",
      "50000/50000 [==============================] - 2s 49us/step - loss: 1.5655 - acc: 0.7145 - val_loss: 3.3553 - val_acc: 0.4783\n",
      "Epoch 19/50\n",
      "50000/50000 [==============================] - 3s 54us/step - loss: 1.4736 - acc: 0.7296 - val_loss: 3.4159 - val_acc: 0.4713\n",
      "Epoch 20/50\n",
      "50000/50000 [==============================] - 3s 52us/step - loss: 1.4006 - acc: 0.7409 - val_loss: 3.4701 - val_acc: 0.4765\n",
      "Epoch 21/50\n",
      "50000/50000 [==============================] - 3s 52us/step - loss: 1.3201 - acc: 0.7530 - val_loss: 3.4829 - val_acc: 0.4802\n",
      "Epoch 22/50\n",
      "50000/50000 [==============================] - 3s 53us/step - loss: 1.2394 - acc: 0.7668 - val_loss: 3.5637 - val_acc: 0.4751\n",
      "Epoch 23/50\n",
      "50000/50000 [==============================] - 3s 53us/step - loss: 1.1781 - acc: 0.7760 - val_loss: 3.5542 - val_acc: 0.4903\n",
      "Epoch 24/50\n",
      "50000/50000 [==============================] - 3s 53us/step - loss: 1.1029 - acc: 0.7886 - val_loss: 3.5889 - val_acc: 0.4806\n",
      "Epoch 25/50\n",
      "50000/50000 [==============================] - 3s 55us/step - loss: 1.0420 - acc: 0.8002 - val_loss: 3.6817 - val_acc: 0.4745\n",
      "Epoch 26/50\n",
      "50000/50000 [==============================] - 3s 55us/step - loss: 0.9700 - acc: 0.8142 - val_loss: 3.7585 - val_acc: 0.4717\n",
      "Epoch 27/50\n",
      "50000/50000 [==============================] - 3s 53us/step - loss: 0.9108 - acc: 0.8257 - val_loss: 3.7615 - val_acc: 0.4762\n",
      "Epoch 28/50\n",
      "50000/50000 [==============================] - 3s 55us/step - loss: 0.8493 - acc: 0.8372 - val_loss: 3.8936 - val_acc: 0.4650\n",
      "Epoch 29/50\n",
      "50000/50000 [==============================] - 3s 60us/step - loss: 0.7934 - acc: 0.8479 - val_loss: 3.9228 - val_acc: 0.4687\n",
      "Epoch 30/50\n",
      "50000/50000 [==============================] - 3s 61us/step - loss: 0.7323 - acc: 0.8605 - val_loss: 4.0040 - val_acc: 0.4734\n",
      "Epoch 31/50\n",
      "50000/50000 [==============================] - 3s 57us/step - loss: 0.6752 - acc: 0.8722 - val_loss: 4.0209 - val_acc: 0.4692\n",
      "Epoch 32/50\n",
      "50000/50000 [==============================] - 3s 59us/step - loss: 0.6293 - acc: 0.8821 - val_loss: 3.9941 - val_acc: 0.4767\n",
      "Epoch 33/50\n",
      "50000/50000 [==============================] - 3s 54us/step - loss: 0.5780 - acc: 0.8930 - val_loss: 4.0924 - val_acc: 0.4831\n",
      "Epoch 34/50\n",
      "50000/50000 [==============================] - 3s 54us/step - loss: 0.5362 - acc: 0.9017 - val_loss: 4.1993 - val_acc: 0.4773\n",
      "Epoch 35/50\n",
      "50000/50000 [==============================] - 3s 57us/step - loss: 0.4982 - acc: 0.9095 - val_loss: 4.2998 - val_acc: 0.4726\n",
      "Epoch 36/50\n",
      "50000/50000 [==============================] - 3s 54us/step - loss: 0.4568 - acc: 0.9188 - val_loss: 4.3408 - val_acc: 0.4814\n",
      "Epoch 37/50\n",
      "50000/50000 [==============================] - 3s 51us/step - loss: 0.4187 - acc: 0.9282 - val_loss: 4.3856 - val_acc: 0.4736\n",
      "Epoch 38/50\n",
      "50000/50000 [==============================] - 3s 53us/step - loss: 0.3901 - acc: 0.9339 - val_loss: 4.4236 - val_acc: 0.4742\n",
      "Epoch 39/50\n",
      "50000/50000 [==============================] - 3s 54us/step - loss: 0.3568 - acc: 0.9416 - val_loss: 4.5886 - val_acc: 0.4702\n",
      "Epoch 40/50\n",
      "50000/50000 [==============================] - 3s 56us/step - loss: 0.3306 - acc: 0.9463 - val_loss: 4.6835 - val_acc: 0.4710\n",
      "Epoch 41/50\n",
      "50000/50000 [==============================] - 3s 53us/step - loss: 0.3014 - acc: 0.9541 - val_loss: 4.5098 - val_acc: 0.4765\n",
      "Epoch 42/50\n",
      "50000/50000 [==============================] - 3s 55us/step - loss: 0.2728 - acc: 0.9609 - val_loss: 4.7083 - val_acc: 0.4755\n",
      "Epoch 43/50\n",
      "50000/50000 [==============================] - 3s 54us/step - loss: 0.2547 - acc: 0.9646 - val_loss: 4.7608 - val_acc: 0.4770\n",
      "Epoch 44/50\n",
      "50000/50000 [==============================] - 3s 52us/step - loss: 0.2354 - acc: 0.9674 - val_loss: 4.7957 - val_acc: 0.4747\n",
      "Epoch 45/50\n",
      "50000/50000 [==============================] - 3s 51us/step - loss: 0.2178 - acc: 0.9712 - val_loss: 4.8594 - val_acc: 0.4779\n",
      "Epoch 46/50\n",
      "50000/50000 [==============================] - 3s 55us/step - loss: 0.2008 - acc: 0.9758 - val_loss: 4.9390 - val_acc: 0.4748\n",
      "Epoch 47/50\n",
      "50000/50000 [==============================] - 3s 57us/step - loss: 0.1863 - acc: 0.9797 - val_loss: 4.9897 - val_acc: 0.4739\n",
      "Epoch 48/50\n",
      "50000/50000 [==============================] - 3s 54us/step - loss: 0.1715 - acc: 0.9814 - val_loss: 4.9994 - val_acc: 0.4743\n",
      "Epoch 49/50\n",
      "50000/50000 [==============================] - 3s 55us/step - loss: 0.1600 - acc: 0.9837 - val_loss: 5.0792 - val_acc: 0.4724\n"
     ]
    },
    {
     "name": "stdout",
     "output_type": "stream",
     "text": [
      "Epoch 50/50\n",
      "50000/50000 [==============================] - 3s 54us/step - loss: 0.1454 - acc: 0.9873 - val_loss: 5.0902 - val_acc: 0.4803\n"
     ]
    }
   ],
   "source": [
    "model = build_mlp(input_shape=x_train.shape[1:])\n",
    "model.summary()\n",
    "optimizer = keras.optimizers.SGD(lr=LEARNING_RATE, nesterov=True, momentum=MOMENTUM)\n",
    "\"\"\"\n",
    "# 在 compile 時，使用自定義的 loss function\n",
    "\"\"\"\n",
    "model.compile(loss=focal_loss(), metrics=[\"accuracy\"], optimizer=optimizer)\n",
    "\n",
    "model.fit(x_train, y_train, \n",
    "          epochs=EPOCHS, \n",
    "          batch_size=BATCH_SIZE, \n",
    "          validation_data=(x_test, y_test), \n",
    "          shuffle=True,\n",
    "#           callbacks=[log_extract]\n",
    "         )\n",
    "\n",
    "# Collect results\n",
    "train_loss = model.history.history[\"loss\"]\n",
    "valid_loss = model.history.history[\"val_loss\"]\n",
    "train_acc = model.history.history[\"acc\"]\n",
    "valid_acc = model.history.history[\"val_acc\"]\n",
    "\n",
    "# valid_f1sc = model.history.history['val_f1sc']"
   ]
  },
  {
   "cell_type": "markdown",
   "metadata": {},
   "source": [
    "focal loss"
   ]
  },
  {
   "cell_type": "code",
   "execution_count": 10,
   "metadata": {
    "scrolled": true
   },
   "outputs": [
    {
     "data": {
      "image/png": "[encoded data removed]",
      "text/plain": [
       "<Figure size 432x288 with 1 Axes>"
      ]
     },
     "metadata": {
      "needs_background": "light"
     },
     "output_type": "display_data"
    },
    {
     "data": {
      "image/png": "[encoded data removed]",
      "text/plain": [
       "<Figure size 432x288 with 1 Axes>"
      ]
     },
     "metadata": {
      "needs_background": "light"
     },
     "output_type": "display_data"
    }
   ],
   "source": [
    "import matplotlib.pyplot as plt\n",
    "%matplotlib inline\n",
    "\n",
    "plt.plot(range(len(train_loss)), train_loss, label=\"train loss\")\n",
    "plt.plot(range(len(valid_loss)), valid_loss, label=\"valid loss\")\n",
    "plt.legend()\n",
    "plt.title(\"Loss\")\n",
    "plt.show()\n",
    "\n",
    "plt.plot(range(len(train_acc)), train_acc, label=\"train accuracy\")\n",
    "plt.plot(range(len(valid_acc)), valid_acc, label=\"valid accuracy\")\n",
    "plt.legend()\n",
    "plt.title(\"Accuracy\")\n",
    "plt.show()"
   ]
  },
  {
   "cell_type": "markdown",
   "metadata": {},
   "source": [
    "combine"
   ]
  },
  {
   "cell_type": "code",
   "execution_count": 22,
   "metadata": {},
   "outputs": [
    {
     "data": {
      "image/png": "[encoded data removed]",
      "text/plain": [
       "<Figure size 432x288 with 1 Axes>"
      ]
     },
     "metadata": {
      "needs_background": "light"
     },
     "output_type": "display_data"
    },
    {
     "data": {
      "image/png": "[encoded data removed]",
      "text/plain": [
       "<Figure size 432x288 with 1 Axes>"
      ]
     },
     "metadata": {
      "needs_background": "light"
     },
     "output_type": "display_data"
    }
   ],
   "source": [
    "import matplotlib.pyplot as plt\n",
    "%matplotlib inline\n",
    "\n",
    "plt.plot(range(len(train_loss)), train_loss, label=\"train loss\")\n",
    "plt.plot(range(len(valid_loss)), valid_loss, label=\"valid loss\")\n",
    "plt.legend()\n",
    "plt.title(\"Loss\")\n",
    "plt.show()\n",
    "\n",
    "plt.plot(range(len(train_acc)), train_acc, label=\"train accuracy\")\n",
    "plt.plot(range(len(valid_acc)), valid_acc, label=\"valid accuracy\")\n",
    "plt.legend()\n",
    "plt.title(\"Accuracy\")\n",
    "plt.show()"
   ]
  },
  {
   "cell_type": "code",
   "execution_count": null,
   "metadata": {},
   "outputs": [],
   "source": []
  },
  {
   "cell_type": "markdown",
   "metadata": {},
   "source": [
    "## Work\n",
    "1. 請自行定義一個 loss function, 為 0.3 * focal loss + 0.7 cross-entropy，訓練並比較結果\n"
   ]
  }
 ],
 "metadata": {
  "kernelspec": {
   "display_name": "Python 3",
   "language": "python",
   "name": "python3"
  },
  "language_info": {
   "codemirror_mode": {
    "name": "ipython",
    "version": 3
   },
   "file_extension": ".py",
   "mimetype": "text/x-python",
   "name": "python",
   "nbconvert_exporter": "python",
   "pygments_lexer": "ipython3",
   "version": "3.7.3"
  }
 },
 "nbformat": 4,
 "nbformat_minor": 2
}
