{
 "cells": [
  {
   "cell_type": "markdown",
   "metadata": {},
   "source": [
    "## 練習時間\n",
    "相信大家目前都能夠初步了解機器學習專案的流程及步驟，今天的作業希望大家能夠看看全球機器學習巨頭們在做的機器學習專案。以 google 為例，下圖是 Google 內部專案使用機器學習的數量，隨著時間進展，現在早已超過 2000 個專案在使用 ML。"
   ]
  },
  {
   "cell_type": "markdown",
   "metadata": {},
   "source": [
    "![image](https://cdn-images-1.medium.com/max/800/1*U_L8qI8RmYS-MOBrYvXhSA.png)"
   ]
  },
  {
   "cell_type": "markdown",
   "metadata": {},
   "source": [
    "底下幫同學整理幾間知名企業的 blog 或機器學習網站 (自行搜尋也可)，請挑選一篇文章閱讀並試著回答\n",
    "1. 專案的目標？ (要解決什麼問題）\n",
    "2. 使用的技術是？ (只需知道名稱即可，例如：使用 CNN 卷積神經網路做影像分類)\n",
    "3. 資料來源？ "
   ]
  },
  {
   "cell_type": "markdown",
   "metadata": {},
   "source": [
    "- [Google AI blog](https://ai.googleblog.com/)\n",
    "- [Facebook Research blog](https://research.fb.com/blog/)\n",
    "- [Apple machine learning journal](https://machinelearning.apple.com/)\n",
    "- [機器之心](https://www.jiqizhixin.com/)\n",
    "- [雷鋒網](http://www.leiphone.com/category/ai)"
   ]
  },
  {
   "cell_type": "markdown",
   "metadata": {},
   "source": [
    "## 1.What the research is:\n",
    "A new approach to object recognition that uses a single neural network to simultaneously recognize distinct foreground objects, such as animals or people (a task called instance segmentation), while also labeling pixels in the image background with classes, such as road, sky, or grass (a task called semantic segmentation). While previous research has mainly explored these two segmentation tasks separately, using different types of network architectures, our work shows that both tasks can be addressed in one unified architecture. The new approach is memory and computationally efficient, and establishes strong baseline performance for the recently introduced panoptic segmentation task, which merges semantic and instance segmentation into a combined task.\n",
    "## 2.How it works:\n",
    "The new architecture endows Mask R-CNN, a widely used system for instance segmentation that was developed by Facebook researchers in 2017, with a semantic segmentation branch using a shared feature pyramid network (FPN) backbone. This architecture, called a Panoptic FPN, can generate semantic and instance segmentations in parallel, with accuracy levels equivalent to training two separate single-task models, cutting the overall computation roughly in half. Our tests also demonstrate that when Panoptic FPN is given the same computational resources as two separate networks, it significantly outperforms the individual networks on the COCO and Cityscapes image recognition benchmarks.\n",
    "Why it matters:\n",
    "In addition to showing that a single-network approach to panoptic segmentation is both effective and easy to implement, this work establishes a baseline for future research. Reducing the memory and computational overhead for rich and coherent image segmentation could have widespread implications for image recognition systems that have to make sense of cluttered real-world environments, where objects move and overlap. Segmenting foreground objects together with background is important for understanding entire scenes and for performing related actions, such as navigating through the dynamic features within a scene.\n",
    "## 3.Read the full paper:\n",
    "Panoptic feature pyramid networks\n",
    "https://arxiv.org/abs/1901.02446\n"
   ]
  }
 ],
 "metadata": {
  "kernelspec": {
   "display_name": "Python 3",
   "language": "python",
   "name": "python3"
  },
  "language_info": {
   "codemirror_mode": {
    "name": "ipython",
    "version": 3
   },
   "file_extension": ".py",
   "mimetype": "text/x-python",
   "name": "python",
   "nbconvert_exporter": "python",
   "pygments_lexer": "ipython3",
   "version": "3.6.8"
  }
 },
 "nbformat": 4,
 "nbformat_minor": 2
}
