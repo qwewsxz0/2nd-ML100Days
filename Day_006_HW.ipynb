{
 "cells": [
  {
   "cell_type": "code",
   "execution_count": 1,
   "metadata": {},
   "outputs": [],
   "source": [
    "# Import 需要的套件\n",
    "import os\n",
    "import numpy as np\n",
    "import pandas as pd\n",
    "import matplotlib.pyplot as plt\n",
    "\n",
    "%matplotlib inline\n",
    "\n",
    "# 設定 data_path\n",
    "dir_data = 'C:/Users/IRIS168'"
   ]
  },
  {
   "cell_type": "code",
   "execution_count": 2,
   "metadata": {},
   "outputs": [
    {
     "name": "stdout",
     "output_type": "stream",
     "text": [
      "Path of read in data: C:/Users/IRIS168\\application_train.csv\n"
     ]
    },
    {
     "data": {
      "text/html": [
       "<div>\n",
       "<style scoped>\n",
       "    .dataframe tbody tr th:only-of-type {\n",
       "        vertical-align: middle;\n",
       "    }\n",
       "\n",
       "    .dataframe tbody tr th {\n",
       "        vertical-align: top;\n",
       "    }\n",
       "\n",
       "    .dataframe thead th {\n",
       "        text-align: right;\n",
       "    }\n",
       "</style>\n",
       "<table border=\"1\" class=\"dataframe\">\n",
       "  <thead>\n",
       "    <tr style=\"text-align: right;\">\n",
       "      <th></th>\n",
       "      <th>SK_ID_CURR</th>\n",
       "      <th>TARGET</th>\n",
       "      <th>NAME_CONTRACT_TYPE</th>\n",
       "      <th>CODE_GENDER</th>\n",
       "      <th>FLAG_OWN_CAR</th>\n",
       "      <th>FLAG_OWN_REALTY</th>\n",
       "      <th>CNT_CHILDREN</th>\n",
       "      <th>AMT_INCOME_TOTAL</th>\n",
       "      <th>AMT_CREDIT</th>\n",
       "      <th>AMT_ANNUITY</th>\n",
       "      <th>...</th>\n",
       "      <th>FLAG_DOCUMENT_18</th>\n",
       "      <th>FLAG_DOCUMENT_19</th>\n",
       "      <th>FLAG_DOCUMENT_20</th>\n",
       "      <th>FLAG_DOCUMENT_21</th>\n",
       "      <th>AMT_REQ_CREDIT_BUREAU_HOUR</th>\n",
       "      <th>AMT_REQ_CREDIT_BUREAU_DAY</th>\n",
       "      <th>AMT_REQ_CREDIT_BUREAU_WEEK</th>\n",
       "      <th>AMT_REQ_CREDIT_BUREAU_MON</th>\n",
       "      <th>AMT_REQ_CREDIT_BUREAU_QRT</th>\n",
       "      <th>AMT_REQ_CREDIT_BUREAU_YEAR</th>\n",
       "    </tr>\n",
       "  </thead>\n",
       "  <tbody>\n",
       "    <tr>\n",
       "      <th>0</th>\n",
       "      <td>100002</td>\n",
       "      <td>1</td>\n",
       "      <td>Cash loans</td>\n",
       "      <td>M</td>\n",
       "      <td>N</td>\n",
       "      <td>Y</td>\n",
       "      <td>0</td>\n",
       "      <td>202500.0</td>\n",
       "      <td>406597.5</td>\n",
       "      <td>24700.5</td>\n",
       "      <td>...</td>\n",
       "      <td>0</td>\n",
       "      <td>0</td>\n",
       "      <td>0</td>\n",
       "      <td>0</td>\n",
       "      <td>0.0</td>\n",
       "      <td>0.0</td>\n",
       "      <td>0.0</td>\n",
       "      <td>0.0</td>\n",
       "      <td>0.0</td>\n",
       "      <td>1.0</td>\n",
       "    </tr>\n",
       "    <tr>\n",
       "      <th>1</th>\n",
       "      <td>100003</td>\n",
       "      <td>0</td>\n",
       "      <td>Cash loans</td>\n",
       "      <td>F</td>\n",
       "      <td>N</td>\n",
       "      <td>N</td>\n",
       "      <td>0</td>\n",
       "      <td>270000.0</td>\n",
       "      <td>1293502.5</td>\n",
       "      <td>35698.5</td>\n",
       "      <td>...</td>\n",
       "      <td>0</td>\n",
       "      <td>0</td>\n",
       "      <td>0</td>\n",
       "      <td>0</td>\n",
       "      <td>0.0</td>\n",
       "      <td>0.0</td>\n",
       "      <td>0.0</td>\n",
       "      <td>0.0</td>\n",
       "      <td>0.0</td>\n",
       "      <td>0.0</td>\n",
       "    </tr>\n",
       "    <tr>\n",
       "      <th>2</th>\n",
       "      <td>100004</td>\n",
       "      <td>0</td>\n",
       "      <td>Revolving loans</td>\n",
       "      <td>M</td>\n",
       "      <td>Y</td>\n",
       "      <td>Y</td>\n",
       "      <td>0</td>\n",
       "      <td>67500.0</td>\n",
       "      <td>135000.0</td>\n",
       "      <td>6750.0</td>\n",
       "      <td>...</td>\n",
       "      <td>0</td>\n",
       "      <td>0</td>\n",
       "      <td>0</td>\n",
       "      <td>0</td>\n",
       "      <td>0.0</td>\n",
       "      <td>0.0</td>\n",
       "      <td>0.0</td>\n",
       "      <td>0.0</td>\n",
       "      <td>0.0</td>\n",
       "      <td>0.0</td>\n",
       "    </tr>\n",
       "    <tr>\n",
       "      <th>3</th>\n",
       "      <td>100006</td>\n",
       "      <td>0</td>\n",
       "      <td>Cash loans</td>\n",
       "      <td>F</td>\n",
       "      <td>N</td>\n",
       "      <td>Y</td>\n",
       "      <td>0</td>\n",
       "      <td>135000.0</td>\n",
       "      <td>312682.5</td>\n",
       "      <td>29686.5</td>\n",
       "      <td>...</td>\n",
       "      <td>0</td>\n",
       "      <td>0</td>\n",
       "      <td>0</td>\n",
       "      <td>0</td>\n",
       "      <td>NaN</td>\n",
       "      <td>NaN</td>\n",
       "      <td>NaN</td>\n",
       "      <td>NaN</td>\n",
       "      <td>NaN</td>\n",
       "      <td>NaN</td>\n",
       "    </tr>\n",
       "    <tr>\n",
       "      <th>4</th>\n",
       "      <td>100007</td>\n",
       "      <td>0</td>\n",
       "      <td>Cash loans</td>\n",
       "      <td>M</td>\n",
       "      <td>N</td>\n",
       "      <td>Y</td>\n",
       "      <td>0</td>\n",
       "      <td>121500.0</td>\n",
       "      <td>513000.0</td>\n",
       "      <td>21865.5</td>\n",
       "      <td>...</td>\n",
       "      <td>0</td>\n",
       "      <td>0</td>\n",
       "      <td>0</td>\n",
       "      <td>0</td>\n",
       "      <td>0.0</td>\n",
       "      <td>0.0</td>\n",
       "      <td>0.0</td>\n",
       "      <td>0.0</td>\n",
       "      <td>0.0</td>\n",
       "      <td>0.0</td>\n",
       "    </tr>\n",
       "  </tbody>\n",
       "</table>\n",
       "<p>5 rows × 122 columns</p>\n",
       "</div>"
      ],
      "text/plain": [
       "   SK_ID_CURR  TARGET NAME_CONTRACT_TYPE CODE_GENDER FLAG_OWN_CAR  \\\n",
       "0      100002       1         Cash loans           M            N   \n",
       "1      100003       0         Cash loans           F            N   \n",
       "2      100004       0    Revolving loans           M            Y   \n",
       "3      100006       0         Cash loans           F            N   \n",
       "4      100007       0         Cash loans           M            N   \n",
       "\n",
       "  FLAG_OWN_REALTY  CNT_CHILDREN  AMT_INCOME_TOTAL  AMT_CREDIT  AMT_ANNUITY  \\\n",
       "0               Y             0          202500.0    406597.5      24700.5   \n",
       "1               N             0          270000.0   1293502.5      35698.5   \n",
       "2               Y             0           67500.0    135000.0       6750.0   \n",
       "3               Y             0          135000.0    312682.5      29686.5   \n",
       "4               Y             0          121500.0    513000.0      21865.5   \n",
       "\n",
       "   ...  FLAG_DOCUMENT_18 FLAG_DOCUMENT_19 FLAG_DOCUMENT_20 FLAG_DOCUMENT_21  \\\n",
       "0  ...                 0                0                0                0   \n",
       "1  ...                 0                0                0                0   \n",
       "2  ...                 0                0                0                0   \n",
       "3  ...                 0                0                0                0   \n",
       "4  ...                 0                0                0                0   \n",
       "\n",
       "  AMT_REQ_CREDIT_BUREAU_HOUR AMT_REQ_CREDIT_BUREAU_DAY  \\\n",
       "0                        0.0                       0.0   \n",
       "1                        0.0                       0.0   \n",
       "2                        0.0                       0.0   \n",
       "3                        NaN                       NaN   \n",
       "4                        0.0                       0.0   \n",
       "\n",
       "   AMT_REQ_CREDIT_BUREAU_WEEK  AMT_REQ_CREDIT_BUREAU_MON  \\\n",
       "0                         0.0                        0.0   \n",
       "1                         0.0                        0.0   \n",
       "2                         0.0                        0.0   \n",
       "3                         NaN                        NaN   \n",
       "4                         0.0                        0.0   \n",
       "\n",
       "   AMT_REQ_CREDIT_BUREAU_QRT  AMT_REQ_CREDIT_BUREAU_YEAR  \n",
       "0                        0.0                         1.0  \n",
       "1                        0.0                         0.0  \n",
       "2                        0.0                         0.0  \n",
       "3                        NaN                         NaN  \n",
       "4                        0.0                         0.0  \n",
       "\n",
       "[5 rows x 122 columns]"
      ]
     },
     "execution_count": 2,
     "metadata": {},
     "output_type": "execute_result"
    }
   ],
   "source": [
    "f_app = os.path.join(dir_data, 'application_train.csv')\n",
    "print('Path of read in data: %s' % (f_app))\n",
    "app_train = pd.read_csv(f_app)\n",
    "app_train.head()"
   ]
  },
  {
   "cell_type": "code",
   "execution_count": 3,
   "metadata": {},
   "outputs": [
    {
     "data": {
      "image/png": "[encoded data removed]",
      "text/plain": [
       "<Figure size 432x288 with 1 Axes>"
      ]
     },
     "metadata": {
      "needs_background": "light"
     },
     "output_type": "display_data"
    },
    {
     "data": {
      "text/plain": [
       " 365243    55374\n",
       "-200         156\n",
       "-224         152\n",
       "-199         151\n",
       "-230         151\n",
       "-212         150\n",
       "-229         143\n",
       "-384         143\n",
       "-231         140\n",
       "-215         138\n",
       "-207         138\n",
       "-188         137\n",
       "-216         137\n",
       "-116         136\n",
       "-196         136\n",
       "-222         135\n",
       "-193         134\n",
       "-195         133\n",
       "-214         132\n",
       "-213         131\n",
       "-254         131\n",
       "-381         130\n",
       "-201         130\n",
       "-233         128\n",
       "-185         128\n",
       "-237         127\n",
       "-194         127\n",
       "-184         126\n",
       "-234         126\n",
       "-209         125\n",
       "           ...  \n",
       "-12768         1\n",
       "-10604         1\n",
       "-10857         1\n",
       "-8810          1\n",
       "-14955         1\n",
       "-11113         1\n",
       "-11369         1\n",
       "-13420         1\n",
       "-10346         1\n",
       "-10860         1\n",
       "-12649         1\n",
       "-10358         1\n",
       "-12650         1\n",
       "-10870         1\n",
       "-12919         1\n",
       "-14968         1\n",
       "-13175         1\n",
       "-11382         1\n",
       "-10101         1\n",
       "-12150         1\n",
       "-10603         1\n",
       "-12393         1\n",
       "-9694          1\n",
       "-11741         1\n",
       "-13162         1\n",
       "-11115         1\n",
       "-11371         1\n",
       "-11883         1\n",
       "-13536         1\n",
       "-8795          1\n",
       "Name: DAYS_EMPLOYED, Length: 12574, dtype: int64"
      ]
     },
     "execution_count": 3,
     "metadata": {},
     "output_type": "execute_result"
    }
   ],
   "source": [
    "# DAYS_EMPLOYED: 申請貸款前，申請人已在現職工作的時間\n",
    "(app_train['DAYS_EMPLOYED'] / 365).describe()\n",
    "plt.hist(app_train['DAYS_EMPLOYED'])\n",
    "plt.show()\n",
    "app_train['DAYS_EMPLOYED'].value_counts()"
   ]
  },
  {
   "cell_type": "code",
   "execution_count": 4,
   "metadata": {},
   "outputs": [
    {
     "data": {
      "text/plain": [
       "count    307511.000000\n",
       "mean        174.835742\n",
       "std         387.056895\n",
       "min         -49.073973\n",
       "25%          -7.561644\n",
       "50%          -3.323288\n",
       "75%          -0.791781\n",
       "max        1000.665753\n",
       "Name: DAYS_EMPLOYED, dtype: float64"
      ]
     },
     "execution_count": 4,
     "metadata": {},
     "output_type": "execute_result"
    }
   ],
   "source": [
    "(app_train['DAYS_EMPLOYED'] / 365).describe()"
   ]
  },
  {
   "cell_type": "code",
   "execution_count": 5,
   "metadata": {},
   "outputs": [
    {
     "name": "stdout",
     "output_type": "stream",
     "text": [
      "The non-anomalies default on 8.66 % of loans\n",
      "The anomalies default on 5.40% of loans\n",
      "There are 55374 anomalous days of employment\n"
     ]
    }
   ],
   "source": [
    "anom = app_train[app_train['DAYS_EMPLOYED'] == 365243]\n",
    "non_anom = app_train[app_train['DAYS_EMPLOYED'] != 365243]\n",
    "print('The non-anomalies default on %0.2f %% of loans' % (100 * non_anom['TARGET'].mean()))\n",
    "print('The anomalies default on %0.2f%% of loans' % (100 * anom['TARGET'].mean()))\n",
    "print('There are %d anomalous days of employment' % len(anom))"
   ]
  },
  {
   "cell_type": "code",
   "execution_count": 6,
   "metadata": {},
   "outputs": [
    {
     "name": "stdout",
     "output_type": "stream",
     "text": [
      "False    252137\n",
      "True      55374\n",
      "Name: DAYS_EMPLOYED_ANOM, dtype: int64\n"
     ]
    },
    {
     "data": {
      "image/png": "[encoded data removed]",
      "text/plain": [
       "<Figure size 432x288 with 1 Axes>"
      ]
     },
     "metadata": {
      "needs_background": "light"
     },
     "output_type": "display_data"
    }
   ],
   "source": [
    "# 新增一個欄位: DAYS_EMPLOYED_ANOM 來標記 DAYS_EMPLOYED 是否異常\n",
    "app_train['DAYS_EMPLOYED_ANOM'] = app_train[\"DAYS_EMPLOYED\"] == 365243\n",
    "print(app_train['DAYS_EMPLOYED_ANOM'].value_counts())\n",
    "\n",
    "# 這邊我們用 nan 將異常值取代\n",
    "app_train['DAYS_EMPLOYED'].replace({365243: np.nan}, inplace = True)\n",
    "\n",
    "app_train['DAYS_EMPLOYED'].plot.hist(title = 'Days Employment Histogram');\n",
    "plt.xlabel('Days Employment');"
   ]
  },
  {
   "cell_type": "code",
   "execution_count": 7,
   "metadata": {},
   "outputs": [
    {
     "data": {
      "text/plain": [
       "0         False\n",
       "1         False\n",
       "2         False\n",
       "3         False\n",
       "4         False\n",
       "5         False\n",
       "6         False\n",
       "7         False\n",
       "8         False\n",
       "9         False\n",
       "10        False\n",
       "11        False\n",
       "12        False\n",
       "13        False\n",
       "14        False\n",
       "15        False\n",
       "16        False\n",
       "17        False\n",
       "18        False\n",
       "19        False\n",
       "20        False\n",
       "21        False\n",
       "22        False\n",
       "23        False\n",
       "24        False\n",
       "25        False\n",
       "26        False\n",
       "27        False\n",
       "28        False\n",
       "29        False\n",
       "          ...  \n",
       "307481    False\n",
       "307482    False\n",
       "307483    False\n",
       "307484    False\n",
       "307485    False\n",
       "307486    False\n",
       "307487    False\n",
       "307488    False\n",
       "307489    False\n",
       "307490    False\n",
       "307491    False\n",
       "307492    False\n",
       "307493    False\n",
       "307494    False\n",
       "307495    False\n",
       "307496    False\n",
       "307497    False\n",
       "307498    False\n",
       "307499    False\n",
       "307500    False\n",
       "307501    False\n",
       "307502    False\n",
       "307503    False\n",
       "307504    False\n",
       "307505    False\n",
       "307506    False\n",
       "307507    False\n",
       "307508    False\n",
       "307509    False\n",
       "307510    False\n",
       "Name: DAYS_EMPLOYED, Length: 307511, dtype: bool"
      ]
     },
     "execution_count": 7,
     "metadata": {},
     "output_type": "execute_result"
    }
   ],
   "source": [
    "app_train[\"DAYS_EMPLOYED\"] == 365243"
   ]
  },
  {
   "cell_type": "code",
   "execution_count": 8,
   "metadata": {},
   "outputs": [
    {
     "data": {
      "text/plain": [
       "0         -637.0\n",
       "1        -1188.0\n",
       "2         -225.0\n",
       "3        -3039.0\n",
       "4        -3038.0\n",
       "5        -1588.0\n",
       "6        -3130.0\n",
       "7         -449.0\n",
       "8            NaN\n",
       "9        -2019.0\n",
       "10        -679.0\n",
       "11           NaN\n",
       "12       -2717.0\n",
       "13       -3028.0\n",
       "14        -203.0\n",
       "15       -1157.0\n",
       "16       -1317.0\n",
       "17        -191.0\n",
       "18       -7804.0\n",
       "19       -2038.0\n",
       "20       -4286.0\n",
       "21       -1652.0\n",
       "22       -4306.0\n",
       "23           NaN\n",
       "24        -746.0\n",
       "25       -3494.0\n",
       "26       -2628.0\n",
       "27       -1234.0\n",
       "28       -1796.0\n",
       "29       -1010.0\n",
       "           ...  \n",
       "307481   -3147.0\n",
       "307482    -226.0\n",
       "307483       NaN\n",
       "307484    -328.0\n",
       "307485    -670.0\n",
       "307486   -1185.0\n",
       "307487       NaN\n",
       "307488   -1218.0\n",
       "307489    -286.0\n",
       "307490   -1928.0\n",
       "307491   -1953.0\n",
       "307492   -1618.0\n",
       "307493   -2306.0\n",
       "307494   -6573.0\n",
       "307495   -7438.0\n",
       "307496   -2178.0\n",
       "307497   -1222.0\n",
       "307498   -3689.0\n",
       "307499   -8694.0\n",
       "307500   -5326.0\n",
       "307501   -1046.0\n",
       "307502   -8736.0\n",
       "307503    -399.0\n",
       "307504   -7258.0\n",
       "307505       NaN\n",
       "307506    -236.0\n",
       "307507       NaN\n",
       "307508   -7921.0\n",
       "307509   -4786.0\n",
       "307510   -1262.0\n",
       "Name: DAYS_EMPLOYED, Length: 307511, dtype: float64"
      ]
     },
     "execution_count": 8,
     "metadata": {},
     "output_type": "execute_result"
    }
   ],
   "source": [
    "app_train['DAYS_EMPLOYED']"
   ]
  },
  {
   "cell_type": "code",
   "execution_count": 9,
   "metadata": {},
   "outputs": [
    {
     "data": {
      "image/png": "[encoded data removed]",
      "text/plain": [
       "<Figure size 432x288 with 1 Axes>"
      ]
     },
     "metadata": {
      "needs_background": "light"
     },
     "output_type": "display_data"
    },
    {
     "data": {
      "text/plain": [
       "7.0     7424\n",
       "6.0     6382\n",
       "3.0     6370\n",
       "8.0     5887\n",
       "2.0     5852\n",
       "4.0     5557\n",
       "1.0     5280\n",
       "9.0     5020\n",
       "10.0    4806\n",
       "14.0    4594\n",
       "13.0    4566\n",
       "12.0    4257\n",
       "11.0    4161\n",
       "5.0     3595\n",
       "15.0    3580\n",
       "16.0    3355\n",
       "17.0    2899\n",
       "64.0    2443\n",
       "18.0    2418\n",
       "0.0     2134\n",
       "19.0    1864\n",
       "20.0    1527\n",
       "21.0    1462\n",
       "22.0    1250\n",
       "24.0    1150\n",
       "23.0    1067\n",
       "65.0     891\n",
       "25.0     865\n",
       "26.0     580\n",
       "28.0     542\n",
       "        ... \n",
       "30.0     326\n",
       "31.0     267\n",
       "32.0     208\n",
       "34.0     183\n",
       "35.0     157\n",
       "33.0     132\n",
       "36.0     124\n",
       "38.0      97\n",
       "40.0      85\n",
       "39.0      78\n",
       "37.0      75\n",
       "41.0      58\n",
       "42.0      42\n",
       "44.0      21\n",
       "43.0      19\n",
       "54.0      12\n",
       "45.0      11\n",
       "49.0       6\n",
       "46.0       5\n",
       "55.0       4\n",
       "51.0       3\n",
       "63.0       2\n",
       "91.0       2\n",
       "69.0       1\n",
       "48.0       1\n",
       "52.0       1\n",
       "56.0       1\n",
       "47.0       1\n",
       "50.0       1\n",
       "57.0       1\n",
       "Name: OWN_CAR_AGE, Length: 62, dtype: int64"
      ]
     },
     "execution_count": 9,
     "metadata": {},
     "output_type": "execute_result"
    }
   ],
   "source": [
    "# 檢查 OWN_CAR_AGE: 貸款人的車齡\n",
    "plt.hist(app_train[~app_train.OWN_CAR_AGE.isnull()]['OWN_CAR_AGE'])\n",
    "plt.show()\n",
    "app_train['OWN_CAR_AGE'].value_counts()"
   ]
  },
  {
   "cell_type": "code",
   "execution_count": 10,
   "metadata": {},
   "outputs": [
    {
     "data": {
      "text/plain": [
       "64.0    2443\n",
       "65.0     891\n",
       "54.0      12\n",
       "55.0       4\n",
       "51.0       3\n",
       "91.0       2\n",
       "63.0       2\n",
       "57.0       1\n",
       "69.0       1\n",
       "52.0       1\n",
       "56.0       1\n",
       "Name: OWN_CAR_AGE, dtype: int64"
      ]
     },
     "execution_count": 10,
     "metadata": {},
     "output_type": "execute_result"
    }
   ],
   "source": [
    "app_train[app_train['OWN_CAR_AGE'] > 50]['OWN_CAR_AGE'].value_counts()"
   ]
  },
  {
   "cell_type": "code",
   "execution_count": 11,
   "metadata": {},
   "outputs": [
    {
     "data": {
      "text/plain": [
       "count    104582.000000\n",
       "mean         12.061091\n",
       "std          11.944812\n",
       "min           0.000000\n",
       "25%           5.000000\n",
       "50%           9.000000\n",
       "75%          15.000000\n",
       "max          91.000000\n",
       "Name: OWN_CAR_AGE, dtype: float64"
      ]
     },
     "execution_count": 11,
     "metadata": {},
     "output_type": "execute_result"
    }
   ],
   "source": [
    "app_train['OWN_CAR_AGE'].describe()"
   ]
  },
  {
   "cell_type": "code",
   "execution_count": 12,
   "metadata": {},
   "outputs": [
    {
     "name": "stdout",
     "output_type": "stream",
     "text": [
      "Target of OWN_CAR_AGE >= 50: 8.36%\n",
      "Target of OWN_CAR_AGE < 50: 7.21%\n"
     ]
    }
   ],
   "source": [
    "print(\"Target of OWN_CAR_AGE >= 50: %.2f%%\" % (app_train[app_train['OWN_CAR_AGE'] >= 50 ]['TARGET'].mean() * 100 ))\n",
    "print(\"Target of OWN_CAR_AGE < 50: %.2f%%\" % (app_train[app_train['OWN_CAR_AGE'] < 50]['TARGET'].mean() * 100))\n",
    "\n",
    "app_train['OWN_CAR_AGE_ANOM'] = app_train['OWN_CAR_AGE'] >= 50"
   ]
  },
  {
   "cell_type": "markdown",
   "metadata": {},
   "source": [
    "# 作業6"
   ]
  },
  {
   "cell_type": "code",
   "execution_count": 13,
   "metadata": {},
   "outputs": [
    {
     "name": "stdout",
     "output_type": "stream",
     "text": [
      "Path of read in data: C:/Users/IRIS168\\application_train.csv\n"
     ]
    },
    {
     "data": {
      "text/html": [
       "<div>\n",
       "<style scoped>\n",
       "    .dataframe tbody tr th:only-of-type {\n",
       "        vertical-align: middle;\n",
       "    }\n",
       "\n",
       "    .dataframe tbody tr th {\n",
       "        vertical-align: top;\n",
       "    }\n",
       "\n",
       "    .dataframe thead th {\n",
       "        text-align: right;\n",
       "    }\n",
       "</style>\n",
       "<table border=\"1\" class=\"dataframe\">\n",
       "  <thead>\n",
       "    <tr style=\"text-align: right;\">\n",
       "      <th></th>\n",
       "      <th>SK_ID_CURR</th>\n",
       "      <th>TARGET</th>\n",
       "      <th>NAME_CONTRACT_TYPE</th>\n",
       "      <th>CODE_GENDER</th>\n",
       "      <th>FLAG_OWN_CAR</th>\n",
       "      <th>FLAG_OWN_REALTY</th>\n",
       "      <th>CNT_CHILDREN</th>\n",
       "      <th>AMT_INCOME_TOTAL</th>\n",
       "      <th>AMT_CREDIT</th>\n",
       "      <th>AMT_ANNUITY</th>\n",
       "      <th>...</th>\n",
       "      <th>FLAG_DOCUMENT_18</th>\n",
       "      <th>FLAG_DOCUMENT_19</th>\n",
       "      <th>FLAG_DOCUMENT_20</th>\n",
       "      <th>FLAG_DOCUMENT_21</th>\n",
       "      <th>AMT_REQ_CREDIT_BUREAU_HOUR</th>\n",
       "      <th>AMT_REQ_CREDIT_BUREAU_DAY</th>\n",
       "      <th>AMT_REQ_CREDIT_BUREAU_WEEK</th>\n",
       "      <th>AMT_REQ_CREDIT_BUREAU_MON</th>\n",
       "      <th>AMT_REQ_CREDIT_BUREAU_QRT</th>\n",
       "      <th>AMT_REQ_CREDIT_BUREAU_YEAR</th>\n",
       "    </tr>\n",
       "  </thead>\n",
       "  <tbody>\n",
       "    <tr>\n",
       "      <th>0</th>\n",
       "      <td>100002</td>\n",
       "      <td>1</td>\n",
       "      <td>Cash loans</td>\n",
       "      <td>M</td>\n",
       "      <td>N</td>\n",
       "      <td>Y</td>\n",
       "      <td>0</td>\n",
       "      <td>202500.0</td>\n",
       "      <td>406597.5</td>\n",
       "      <td>24700.5</td>\n",
       "      <td>...</td>\n",
       "      <td>0</td>\n",
       "      <td>0</td>\n",
       "      <td>0</td>\n",
       "      <td>0</td>\n",
       "      <td>0.0</td>\n",
       "      <td>0.0</td>\n",
       "      <td>0.0</td>\n",
       "      <td>0.0</td>\n",
       "      <td>0.0</td>\n",
       "      <td>1.0</td>\n",
       "    </tr>\n",
       "    <tr>\n",
       "      <th>1</th>\n",
       "      <td>100003</td>\n",
       "      <td>0</td>\n",
       "      <td>Cash loans</td>\n",
       "      <td>F</td>\n",
       "      <td>N</td>\n",
       "      <td>N</td>\n",
       "      <td>0</td>\n",
       "      <td>270000.0</td>\n",
       "      <td>1293502.5</td>\n",
       "      <td>35698.5</td>\n",
       "      <td>...</td>\n",
       "      <td>0</td>\n",
       "      <td>0</td>\n",
       "      <td>0</td>\n",
       "      <td>0</td>\n",
       "      <td>0.0</td>\n",
       "      <td>0.0</td>\n",
       "      <td>0.0</td>\n",
       "      <td>0.0</td>\n",
       "      <td>0.0</td>\n",
       "      <td>0.0</td>\n",
       "    </tr>\n",
       "    <tr>\n",
       "      <th>2</th>\n",
       "      <td>100004</td>\n",
       "      <td>0</td>\n",
       "      <td>Revolving loans</td>\n",
       "      <td>M</td>\n",
       "      <td>Y</td>\n",
       "      <td>Y</td>\n",
       "      <td>0</td>\n",
       "      <td>67500.0</td>\n",
       "      <td>135000.0</td>\n",
       "      <td>6750.0</td>\n",
       "      <td>...</td>\n",
       "      <td>0</td>\n",
       "      <td>0</td>\n",
       "      <td>0</td>\n",
       "      <td>0</td>\n",
       "      <td>0.0</td>\n",
       "      <td>0.0</td>\n",
       "      <td>0.0</td>\n",
       "      <td>0.0</td>\n",
       "      <td>0.0</td>\n",
       "      <td>0.0</td>\n",
       "    </tr>\n",
       "    <tr>\n",
       "      <th>3</th>\n",
       "      <td>100006</td>\n",
       "      <td>0</td>\n",
       "      <td>Cash loans</td>\n",
       "      <td>F</td>\n",
       "      <td>N</td>\n",
       "      <td>Y</td>\n",
       "      <td>0</td>\n",
       "      <td>135000.0</td>\n",
       "      <td>312682.5</td>\n",
       "      <td>29686.5</td>\n",
       "      <td>...</td>\n",
       "      <td>0</td>\n",
       "      <td>0</td>\n",
       "      <td>0</td>\n",
       "      <td>0</td>\n",
       "      <td>NaN</td>\n",
       "      <td>NaN</td>\n",
       "      <td>NaN</td>\n",
       "      <td>NaN</td>\n",
       "      <td>NaN</td>\n",
       "      <td>NaN</td>\n",
       "    </tr>\n",
       "    <tr>\n",
       "      <th>4</th>\n",
       "      <td>100007</td>\n",
       "      <td>0</td>\n",
       "      <td>Cash loans</td>\n",
       "      <td>M</td>\n",
       "      <td>N</td>\n",
       "      <td>Y</td>\n",
       "      <td>0</td>\n",
       "      <td>121500.0</td>\n",
       "      <td>513000.0</td>\n",
       "      <td>21865.5</td>\n",
       "      <td>...</td>\n",
       "      <td>0</td>\n",
       "      <td>0</td>\n",
       "      <td>0</td>\n",
       "      <td>0</td>\n",
       "      <td>0.0</td>\n",
       "      <td>0.0</td>\n",
       "      <td>0.0</td>\n",
       "      <td>0.0</td>\n",
       "      <td>0.0</td>\n",
       "      <td>0.0</td>\n",
       "    </tr>\n",
       "  </tbody>\n",
       "</table>\n",
       "<p>5 rows × 122 columns</p>\n",
       "</div>"
      ],
      "text/plain": [
       "   SK_ID_CURR  TARGET NAME_CONTRACT_TYPE CODE_GENDER FLAG_OWN_CAR  \\\n",
       "0      100002       1         Cash loans           M            N   \n",
       "1      100003       0         Cash loans           F            N   \n",
       "2      100004       0    Revolving loans           M            Y   \n",
       "3      100006       0         Cash loans           F            N   \n",
       "4      100007       0         Cash loans           M            N   \n",
       "\n",
       "  FLAG_OWN_REALTY  CNT_CHILDREN  AMT_INCOME_TOTAL  AMT_CREDIT  AMT_ANNUITY  \\\n",
       "0               Y             0          202500.0    406597.5      24700.5   \n",
       "1               N             0          270000.0   1293502.5      35698.5   \n",
       "2               Y             0           67500.0    135000.0       6750.0   \n",
       "3               Y             0          135000.0    312682.5      29686.5   \n",
       "4               Y             0          121500.0    513000.0      21865.5   \n",
       "\n",
       "   ...  FLAG_DOCUMENT_18 FLAG_DOCUMENT_19 FLAG_DOCUMENT_20 FLAG_DOCUMENT_21  \\\n",
       "0  ...                 0                0                0                0   \n",
       "1  ...                 0                0                0                0   \n",
       "2  ...                 0                0                0                0   \n",
       "3  ...                 0                0                0                0   \n",
       "4  ...                 0                0                0                0   \n",
       "\n",
       "  AMT_REQ_CREDIT_BUREAU_HOUR AMT_REQ_CREDIT_BUREAU_DAY  \\\n",
       "0                        0.0                       0.0   \n",
       "1                        0.0                       0.0   \n",
       "2                        0.0                       0.0   \n",
       "3                        NaN                       NaN   \n",
       "4                        0.0                       0.0   \n",
       "\n",
       "   AMT_REQ_CREDIT_BUREAU_WEEK  AMT_REQ_CREDIT_BUREAU_MON  \\\n",
       "0                         0.0                        0.0   \n",
       "1                         0.0                        0.0   \n",
       "2                         0.0                        0.0   \n",
       "3                         NaN                        NaN   \n",
       "4                         0.0                        0.0   \n",
       "\n",
       "   AMT_REQ_CREDIT_BUREAU_QRT  AMT_REQ_CREDIT_BUREAU_YEAR  \n",
       "0                        0.0                         1.0  \n",
       "1                        0.0                         0.0  \n",
       "2                        0.0                         0.0  \n",
       "3                        NaN                         NaN  \n",
       "4                        0.0                         0.0  \n",
       "\n",
       "[5 rows x 122 columns]"
      ]
     },
     "execution_count": 13,
     "metadata": {},
     "output_type": "execute_result"
    }
   ],
   "source": [
    "dir_data = 'C:/Users/IRIS168'\n",
    "f_app = os.path.join(dir_data, 'application_train.csv')\n",
    "print('Path of read in data: %s' % (f_app))\n",
    "app_train = pd.read_csv(f_app)\n",
    "app_train.head()"
   ]
  },
  {
   "cell_type": "code",
   "execution_count": 54,
   "metadata": {},
   "outputs": [],
   "source": [
    "# 過濾掉為NAN的部分\n",
    "app_train = app_train.dropna(axis=1,how='any')"
   ]
  },
  {
   "cell_type": "code",
   "execution_count": 56,
   "metadata": {},
   "outputs": [],
   "source": [
    "# 先篩選數值型的欄位\n",
    "dtype_select = [\"float\"]\n",
    "\n",
    "numeric_columns = list(app_train.columns[list(app_train.dtypes.isin(dtype_select))])\n",
    "\n",
    "# 再把只有 2 值 (通常是 0,1) 的欄位去掉\n",
    "numeric_columns = list(app_train[numeric_columns].dropna(axis=0,how='any').columns[list(app_train[numeric_columns].apply(lambda x:len(x.unique())!=2 ))])\n"
   ]
  },
  {
   "cell_type": "code",
   "execution_count": 57,
   "metadata": {
    "scrolled": true
   },
   "outputs": [
    {
     "name": "stdout",
     "output_type": "stream",
     "text": [
      "Numbers of remain columns 65\n"
     ]
    }
   ],
   "source": [
    "print(\"Numbers of remain columns\" , len(numeric_columns))"
   ]
  },
  {
   "cell_type": "code",
   "execution_count": 58,
   "metadata": {
    "scrolled": true
   },
   "outputs": [
    {
     "data": {
      "text/plain": [
       "['AMT_INCOME_TOTAL',\n",
       " 'AMT_CREDIT',\n",
       " 'AMT_ANNUITY',\n",
       " 'AMT_GOODS_PRICE',\n",
       " 'REGION_POPULATION_RELATIVE',\n",
       " 'DAYS_REGISTRATION',\n",
       " 'OWN_CAR_AGE',\n",
       " 'CNT_FAM_MEMBERS',\n",
       " 'EXT_SOURCE_1',\n",
       " 'EXT_SOURCE_2',\n",
       " 'EXT_SOURCE_3',\n",
       " 'APARTMENTS_AVG',\n",
       " 'BASEMENTAREA_AVG',\n",
       " 'YEARS_BEGINEXPLUATATION_AVG',\n",
       " 'YEARS_BUILD_AVG',\n",
       " 'COMMONAREA_AVG',\n",
       " 'ELEVATORS_AVG',\n",
       " 'ENTRANCES_AVG',\n",
       " 'FLOORSMAX_AVG',\n",
       " 'FLOORSMIN_AVG',\n",
       " 'LANDAREA_AVG',\n",
       " 'LIVINGAPARTMENTS_AVG',\n",
       " 'LIVINGAREA_AVG',\n",
       " 'NONLIVINGAPARTMENTS_AVG',\n",
       " 'NONLIVINGAREA_AVG',\n",
       " 'APARTMENTS_MODE',\n",
       " 'BASEMENTAREA_MODE',\n",
       " 'YEARS_BEGINEXPLUATATION_MODE',\n",
       " 'YEARS_BUILD_MODE',\n",
       " 'COMMONAREA_MODE',\n",
       " 'ELEVATORS_MODE',\n",
       " 'ENTRANCES_MODE',\n",
       " 'FLOORSMAX_MODE',\n",
       " 'FLOORSMIN_MODE',\n",
       " 'LANDAREA_MODE',\n",
       " 'LIVINGAPARTMENTS_MODE',\n",
       " 'LIVINGAREA_MODE',\n",
       " 'NONLIVINGAPARTMENTS_MODE',\n",
       " 'NONLIVINGAREA_MODE',\n",
       " 'APARTMENTS_MEDI',\n",
       " 'BASEMENTAREA_MEDI',\n",
       " 'YEARS_BEGINEXPLUATATION_MEDI',\n",
       " 'YEARS_BUILD_MEDI',\n",
       " 'COMMONAREA_MEDI',\n",
       " 'ELEVATORS_MEDI',\n",
       " 'ENTRANCES_MEDI',\n",
       " 'FLOORSMAX_MEDI',\n",
       " 'FLOORSMIN_MEDI',\n",
       " 'LANDAREA_MEDI',\n",
       " 'LIVINGAPARTMENTS_MEDI',\n",
       " 'LIVINGAREA_MEDI',\n",
       " 'NONLIVINGAPARTMENTS_MEDI',\n",
       " 'NONLIVINGAREA_MEDI',\n",
       " 'TOTALAREA_MODE',\n",
       " 'OBS_30_CNT_SOCIAL_CIRCLE',\n",
       " 'DEF_30_CNT_SOCIAL_CIRCLE',\n",
       " 'OBS_60_CNT_SOCIAL_CIRCLE',\n",
       " 'DEF_60_CNT_SOCIAL_CIRCLE',\n",
       " 'DAYS_LAST_PHONE_CHANGE',\n",
       " 'AMT_REQ_CREDIT_BUREAU_HOUR',\n",
       " 'AMT_REQ_CREDIT_BUREAU_DAY',\n",
       " 'AMT_REQ_CREDIT_BUREAU_WEEK',\n",
       " 'AMT_REQ_CREDIT_BUREAU_MON',\n",
       " 'AMT_REQ_CREDIT_BUREAU_QRT',\n",
       " 'AMT_REQ_CREDIT_BUREAU_YEAR']"
      ]
     },
     "execution_count": 58,
     "metadata": {},
     "output_type": "execute_result"
    }
   ],
   "source": [
    "numeric_columns"
   ]
  },
  {
   "cell_type": "code",
   "execution_count": 62,
   "metadata": {},
   "outputs": [
    {
     "data": {
      "text/plain": [
       "{'whiskers': [<matplotlib.lines.Line2D at 0x1cc25cfd240>,\n",
       "  <matplotlib.lines.Line2D at 0x1cc2615cd30>],\n",
       " 'caps': [<matplotlib.lines.Line2D at 0x1cc2615c240>,\n",
       "  <matplotlib.lines.Line2D at 0x1cc2615c860>],\n",
       " 'boxes': [<matplotlib.lines.Line2D at 0x1cc25cfd5c0>],\n",
       " 'medians': [<matplotlib.lines.Line2D at 0x1cc2615c6a0>],\n",
       " 'fliers': [<matplotlib.lines.Line2D at 0x1cc0012d550>],\n",
       " 'means': []}"
      ]
     },
     "execution_count": 62,
     "metadata": {},
     "output_type": "execute_result"
    },
    {
     "data": {
      "image/png": "[encoded data removed]",
      "text/plain": [
       "<Figure size 432x288 with 1 Axes>"
      ]
     },
     "metadata": {
      "needs_background": "light"
     },
     "output_type": "display_data"
    }
   ],
   "source": [
    "fig1, ax1 = plt.subplots()\n",
    "ax1.set_title('Basic Plot')\n",
    "ax1.boxplot(app_train[\"EXT_SOURCE_1\"])"
   ]
  },
  {
   "cell_type": "code",
   "execution_count": 63,
   "metadata": {},
   "outputs": [
    {
     "data": {
      "text/plain": [
       "<Figure size 432x288 with 0 Axes>"
      ]
     },
     "metadata": {},
     "output_type": "display_data"
    },
    {
     "data": {
      "text/plain": [
       "<Figure size 432x288 with 0 Axes>"
      ]
     },
     "metadata": {},
     "output_type": "display_data"
    },
    {
     "data": {
      "text/plain": [
       "<Figure size 432x288 with 0 Axes>"
      ]
     },
     "metadata": {},
     "output_type": "display_data"
    },
    {
     "data": {
      "text/plain": [
       "<Figure size 432x288 with 0 Axes>"
      ]
     },
     "metadata": {},
     "output_type": "display_data"
    },
    {
     "data": {
      "text/plain": [
       "<Figure size 432x288 with 0 Axes>"
      ]
     },
     "metadata": {},
     "output_type": "display_data"
    },
    {
     "data": {
      "text/plain": [
       "<Figure size 432x288 with 0 Axes>"
      ]
     },
     "metadata": {},
     "output_type": "display_data"
    },
    {
     "data": {
      "text/plain": [
       "<Figure size 432x288 with 0 Axes>"
      ]
     },
     "metadata": {},
     "output_type": "display_data"
    },
    {
     "data": {
      "text/plain": [
       "<Figure size 432x288 with 0 Axes>"
      ]
     },
     "metadata": {},
     "output_type": "display_data"
    },
    {
     "data": {
      "text/plain": [
       "<Figure size 432x288 with 0 Axes>"
      ]
     },
     "metadata": {},
     "output_type": "display_data"
    },
    {
     "data": {
      "text/plain": [
       "<Figure size 432x288 with 0 Axes>"
      ]
     },
     "metadata": {},
     "output_type": "display_data"
    },
    {
     "data": {
      "text/plain": [
       "<Figure size 432x288 with 0 Axes>"
      ]
     },
     "metadata": {},
     "output_type": "display_data"
    },
    {
     "data": {
      "text/plain": [
       "<Figure size 432x288 with 0 Axes>"
      ]
     },
     "metadata": {},
     "output_type": "display_data"
    },
    {
     "data": {
      "text/plain": [
       "<Figure size 432x288 with 0 Axes>"
      ]
     },
     "metadata": {},
     "output_type": "display_data"
    },
    {
     "data": {
      "text/plain": [
       "<Figure size 432x288 with 0 Axes>"
      ]
     },
     "metadata": {},
     "output_type": "display_data"
    },
    {
     "data": {
      "text/plain": [
       "<Figure size 432x288 with 0 Axes>"
      ]
     },
     "metadata": {},
     "output_type": "display_data"
    },
    {
     "data": {
      "text/plain": [
       "<Figure size 432x288 with 0 Axes>"
      ]
     },
     "metadata": {},
     "output_type": "display_data"
    },
    {
     "data": {
      "text/plain": [
       "<Figure size 432x288 with 0 Axes>"
      ]
     },
     "metadata": {},
     "output_type": "display_data"
    },
    {
     "data": {
      "text/plain": [
       "<Figure size 432x288 with 0 Axes>"
      ]
     },
     "metadata": {},
     "output_type": "display_data"
    },
    {
     "data": {
      "text/plain": [
       "<Figure size 432x288 with 0 Axes>"
      ]
     },
     "metadata": {},
     "output_type": "display_data"
    },
    {
     "data": {
      "text/plain": [
       "<Figure size 432x288 with 0 Axes>"
      ]
     },
     "metadata": {},
     "output_type": "display_data"
    },
    {
     "data": {
      "text/plain": [
       "<Figure size 432x288 with 0 Axes>"
      ]
     },
     "metadata": {},
     "output_type": "display_data"
    },
    {
     "data": {
      "text/plain": [
       "<Figure size 432x288 with 0 Axes>"
      ]
     },
     "metadata": {},
     "output_type": "display_data"
    },
    {
     "data": {
      "text/plain": [
       "<Figure size 432x288 with 0 Axes>"
      ]
     },
     "metadata": {},
     "output_type": "display_data"
    },
    {
     "data": {
      "text/plain": [
       "<Figure size 432x288 with 0 Axes>"
      ]
     },
     "metadata": {},
     "output_type": "display_data"
    },
    {
     "data": {
      "text/plain": [
       "<Figure size 432x288 with 0 Axes>"
      ]
     },
     "metadata": {},
     "output_type": "display_data"
    },
    {
     "data": {
      "text/plain": [
       "<Figure size 432x288 with 0 Axes>"
      ]
     },
     "metadata": {},
     "output_type": "display_data"
    },
    {
     "data": {
      "text/plain": [
       "<Figure size 432x288 with 0 Axes>"
      ]
     },
     "metadata": {},
     "output_type": "display_data"
    },
    {
     "data": {
      "text/plain": [
       "<Figure size 432x288 with 0 Axes>"
      ]
     },
     "metadata": {},
     "output_type": "display_data"
    },
    {
     "data": {
      "text/plain": [
       "<Figure size 432x288 with 0 Axes>"
      ]
     },
     "metadata": {},
     "output_type": "display_data"
    },
    {
     "data": {
      "text/plain": [
       "<Figure size 432x288 with 0 Axes>"
      ]
     },
     "metadata": {},
     "output_type": "display_data"
    },
    {
     "data": {
      "text/plain": [
       "<Figure size 432x288 with 0 Axes>"
      ]
     },
     "metadata": {},
     "output_type": "display_data"
    },
    {
     "data": {
      "text/plain": [
       "<Figure size 432x288 with 0 Axes>"
      ]
     },
     "metadata": {},
     "output_type": "display_data"
    },
    {
     "data": {
      "text/plain": [
       "<Figure size 432x288 with 0 Axes>"
      ]
     },
     "metadata": {},
     "output_type": "display_data"
    },
    {
     "data": {
      "text/plain": [
       "<Figure size 432x288 with 0 Axes>"
      ]
     },
     "metadata": {},
     "output_type": "display_data"
    },
    {
     "data": {
      "text/plain": [
       "<Figure size 432x288 with 0 Axes>"
      ]
     },
     "metadata": {},
     "output_type": "display_data"
    },
    {
     "data": {
      "text/plain": [
       "<Figure size 432x288 with 0 Axes>"
      ]
     },
     "metadata": {},
     "output_type": "display_data"
    },
    {
     "data": {
      "text/plain": [
       "<Figure size 432x288 with 0 Axes>"
      ]
     },
     "metadata": {},
     "output_type": "display_data"
    },
    {
     "data": {
      "text/plain": [
       "<Figure size 432x288 with 0 Axes>"
      ]
     },
     "metadata": {},
     "output_type": "display_data"
    },
    {
     "data": {
      "text/plain": [
       "<Figure size 432x288 with 0 Axes>"
      ]
     },
     "metadata": {},
     "output_type": "display_data"
    },
    {
     "data": {
      "text/plain": [
       "<Figure size 432x288 with 0 Axes>"
      ]
     },
     "metadata": {},
     "output_type": "display_data"
    },
    {
     "data": {
      "text/plain": [
       "<Figure size 432x288 with 0 Axes>"
      ]
     },
     "metadata": {},
     "output_type": "display_data"
    },
    {
     "data": {
      "text/plain": [
       "<Figure size 432x288 with 0 Axes>"
      ]
     },
     "metadata": {},
     "output_type": "display_data"
    },
    {
     "data": {
      "text/plain": [
       "<Figure size 432x288 with 0 Axes>"
      ]
     },
     "metadata": {},
     "output_type": "display_data"
    },
    {
     "data": {
      "text/plain": [
       "<Figure size 432x288 with 0 Axes>"
      ]
     },
     "metadata": {},
     "output_type": "display_data"
    },
    {
     "data": {
      "text/plain": [
       "<Figure size 432x288 with 0 Axes>"
      ]
     },
     "metadata": {},
     "output_type": "display_data"
    },
    {
     "data": {
      "text/plain": [
       "<Figure size 432x288 with 0 Axes>"
      ]
     },
     "metadata": {},
     "output_type": "display_data"
    },
    {
     "data": {
      "text/plain": [
       "<Figure size 432x288 with 0 Axes>"
      ]
     },
     "metadata": {},
     "output_type": "display_data"
    },
    {
     "data": {
      "text/plain": [
       "<Figure size 432x288 with 0 Axes>"
      ]
     },
     "metadata": {},
     "output_type": "display_data"
    },
    {
     "data": {
      "text/plain": [
       "<Figure size 432x288 with 0 Axes>"
      ]
     },
     "metadata": {},
     "output_type": "display_data"
    },
    {
     "data": {
      "text/plain": [
       "<Figure size 432x288 with 0 Axes>"
      ]
     },
     "metadata": {},
     "output_type": "display_data"
    },
    {
     "data": {
      "text/plain": [
       "<Figure size 432x288 with 0 Axes>"
      ]
     },
     "metadata": {},
     "output_type": "display_data"
    },
    {
     "data": {
      "text/plain": [
       "<Figure size 432x288 with 0 Axes>"
      ]
     },
     "metadata": {},
     "output_type": "display_data"
    },
    {
     "data": {
      "text/plain": [
       "<Figure size 432x288 with 0 Axes>"
      ]
     },
     "metadata": {},
     "output_type": "display_data"
    },
    {
     "data": {
      "text/plain": [
       "<Figure size 432x288 with 0 Axes>"
      ]
     },
     "metadata": {},
     "output_type": "display_data"
    },
    {
     "data": {
      "text/plain": [
       "<Figure size 432x288 with 0 Axes>"
      ]
     },
     "metadata": {},
     "output_type": "display_data"
    },
    {
     "data": {
      "text/plain": [
       "<Figure size 432x288 with 0 Axes>"
      ]
     },
     "metadata": {},
     "output_type": "display_data"
    },
    {
     "data": {
      "text/plain": [
       "<Figure size 432x288 with 0 Axes>"
      ]
     },
     "metadata": {},
     "output_type": "display_data"
    },
    {
     "data": {
      "text/plain": [
       "<Figure size 432x288 with 0 Axes>"
      ]
     },
     "metadata": {},
     "output_type": "display_data"
    },
    {
     "data": {
      "text/plain": [
       "<Figure size 432x288 with 0 Axes>"
      ]
     },
     "metadata": {},
     "output_type": "display_data"
    },
    {
     "data": {
      "text/plain": [
       "<Figure size 432x288 with 0 Axes>"
      ]
     },
     "metadata": {},
     "output_type": "display_data"
    },
    {
     "data": {
      "text/plain": [
       "<Figure size 432x288 with 0 Axes>"
      ]
     },
     "metadata": {},
     "output_type": "display_data"
    },
    {
     "data": {
      "text/plain": [
       "<Figure size 432x288 with 0 Axes>"
      ]
     },
     "metadata": {},
     "output_type": "display_data"
    },
    {
     "data": {
      "text/plain": [
       "<Figure size 432x288 with 0 Axes>"
      ]
     },
     "metadata": {},
     "output_type": "display_data"
    },
    {
     "data": {
      "text/plain": [
       "<Figure size 432x288 with 0 Axes>"
      ]
     },
     "metadata": {},
     "output_type": "display_data"
    },
    {
     "data": {
      "text/plain": [
       "<Figure size 432x288 with 0 Axes>"
      ]
     },
     "metadata": {},
     "output_type": "display_data"
    }
   ],
   "source": [
    "path = 'C:/Users/IRIS168'\n",
    "# 檢視這些欄位的數值範圍 繪成盒狀圖\n",
    "for col in numeric_columns:\n",
    "    fig1, ax1 = plt.subplots()\n",
    "    ax1.set_title(col)\n",
    "    ax1.boxplot(app_train[col])\n",
    "    figname = 'fig_{}.png'.format(col)\n",
    "    dest = os.path.join(path, figname)\n",
    "    plt.savefig(dest)\n",
    "    plt.clf()"
   ]
  },
  {
   "cell_type": "markdown",
   "metadata": {},
   "source": [
    "### fig_AMT_INCOME_TOTAL  fig_CNT_FAM_MEMBERS  fig_NONLIVINGAPARTMENTS_AVG  fig_OBS_30 60_CNT_SOCIAL_CIRCLE  fig_OWN_CAR_AGE  fig_YEARS_BUILD_AVG  fig_YEARS_BUILD_MEDI fig_YEARS_BUILD_MODE 都挺可疑的，有很多的離群值，許多關於時間上的資料的分布都跟一般的情形不同。"
   ]
  },
  {
   "cell_type": "code",
   "execution_count": 90,
   "metadata": {},
   "outputs": [],
   "source": [
    "sort_data = app_train['AMT_INCOME_TOTAL'].sort_values()"
   ]
  },
  {
   "cell_type": "code",
   "execution_count": 91,
   "metadata": {
    "scrolled": true
   },
   "outputs": [
    {
     "name": "stdout",
     "output_type": "stream",
     "text": [
      "288631      33750.0\n",
      "231125      38250.0\n",
      "83568       40500.0\n",
      "73392       45000.0\n",
      "150006      45000.0\n",
      "134918      45000.0\n",
      "43469       49500.0\n",
      "24616       49500.0\n",
      "171867      51817.5\n",
      "169164      53977.5\n",
      "62627       54000.0\n",
      "130031      54000.0\n",
      "161924      54000.0\n",
      "5617        54000.0\n",
      "115215      54000.0\n",
      "241289      54000.0\n",
      "220510      58500.0\n",
      "66256       58500.0\n",
      "233854      58500.0\n",
      "52299       58500.0\n",
      "174704      58500.0\n",
      "103443      58500.0\n",
      "134070      58500.0\n",
      "184904      58500.0\n",
      "173881      59850.0\n",
      "197237      63000.0\n",
      "128147      65250.0\n",
      "95263       67500.0\n",
      "248492      67500.0\n",
      "252929      67500.0\n",
      "            ...    \n",
      "154168     990000.0\n",
      "7061      1035000.0\n",
      "269915    1035000.0\n",
      "45277     1125000.0\n",
      "296216    1125000.0\n",
      "95940     1125000.0\n",
      "100001    1125000.0\n",
      "232447    1125000.0\n",
      "293055    1125000.0\n",
      "80573     1125000.0\n",
      "265884    1170000.0\n",
      "256557    1192500.0\n",
      "81607     1215000.0\n",
      "275313    1306831.5\n",
      "133766    1307587.5\n",
      "163029    1350000.0\n",
      "46309     1350000.0\n",
      "265060    1350000.0\n",
      "122764    1350000.0\n",
      "306028    1350000.0\n",
      "293148    1350000.0\n",
      "11068     1350000.0\n",
      "57649     1358550.0\n",
      "268769    1575000.0\n",
      "170935    1575000.0\n",
      "164171    1800000.0\n",
      "176312    2025000.0\n",
      "91571     2025000.0\n",
      "298082    2475000.0\n",
      "287463    4500000.0\n",
      "Name: AMT_INCOME_TOTAL, Length: 8602, dtype: float64\n"
     ]
    }
   ],
   "source": [
    "print(sort_data)"
   ]
  },
  {
   "cell_type": "code",
   "execution_count": 92,
   "metadata": {
    "scrolled": true
   },
   "outputs": [
    {
     "data": {
      "text/plain": [
       "[288631,\n",
       " 231125,\n",
       " 83568,\n",
       " 73392,\n",
       " 150006,\n",
       " 134918,\n",
       " 43469,\n",
       " 24616,\n",
       " 171867,\n",
       " 169164,\n",
       " 62627,\n",
       " 130031,\n",
       " 161924,\n",
       " 5617,\n",
       " 115215,\n",
       " 241289,\n",
       " 220510,\n",
       " 66256,\n",
       " 233854,\n",
       " 52299,\n",
       " 174704,\n",
       " 103443,\n",
       " 134070,\n",
       " 184904,\n",
       " 173881,\n",
       " 197237,\n",
       " 128147,\n",
       " 95263,\n",
       " 248492,\n",
       " 252929,\n",
       " 209557,\n",
       " 83986,\n",
       " 85768,\n",
       " 299136,\n",
       " 76775,\n",
       " 99638,\n",
       " 207793,\n",
       " 83166,\n",
       " 139258,\n",
       " 204310,\n",
       " 73909,\n",
       " 206234,\n",
       " 262360,\n",
       " 168693,\n",
       " 90299,\n",
       " 211236,\n",
       " 95499,\n",
       " 245003,\n",
       " 303007,\n",
       " 223983,\n",
       " 224003,\n",
       " 143422,\n",
       " 145650,\n",
       " 145756,\n",
       " 147116,\n",
       " 232222,\n",
       " 10032,\n",
       " 150579,\n",
       " 234762,\n",
       " 246916,\n",
       " 151241,\n",
       " 216778,\n",
       " 120038,\n",
       " 118761,\n",
       " 301369,\n",
       " 111805,\n",
       " 111027,\n",
       " 11940,\n",
       " 212466,\n",
       " 104853,\n",
       " 304466,\n",
       " 104172,\n",
       " 151413,\n",
       " 11744,\n",
       " 141731,\n",
       " 186094,\n",
       " 199159,\n",
       " 68445,\n",
       " 267607,\n",
       " 56262,\n",
       " 174481,\n",
       " 188146,\n",
       " 173184,\n",
       " 273950,\n",
       " 175018,\n",
       " 58603,\n",
       " 201256,\n",
       " 22159,\n",
       " 201221,\n",
       " 59875,\n",
       " 273652,\n",
       " 284938,\n",
       " 276537,\n",
       " 70109,\n",
       " 264591,\n",
       " 20592,\n",
       " 183544,\n",
       " 43536,\n",
       " 70684,\n",
       " 306233,\n",
       " 18081,\n",
       " 181518,\n",
       " 19840,\n",
       " 171783,\n",
       " 287981,\n",
       " 306227,\n",
       " 280735,\n",
       " 115654,\n",
       " 282567,\n",
       " 20679,\n",
       " 227553,\n",
       " 166772,\n",
       " 297751,\n",
       " 259134,\n",
       " 17097,\n",
       " 248448,\n",
       " 16190,\n",
       " 87952,\n",
       " 298256,\n",
       " 88672,\n",
       " 186259,\n",
       " 234828,\n",
       " 183795,\n",
       " 40396,\n",
       " 136624,\n",
       " 167180,\n",
       " 9325,\n",
       " 285480,\n",
       " 147346,\n",
       " 278545,\n",
       " 226417,\n",
       " 30549,\n",
       " 220265,\n",
       " 81050,\n",
       " 133082,\n",
       " 106214,\n",
       " 82301,\n",
       " 32350,\n",
       " 296,\n",
       " 200403,\n",
       " 12571,\n",
       " 138895,\n",
       " 230985,\n",
       " 295387,\n",
       " 230039,\n",
       " 36335,\n",
       " 22023,\n",
       " 302091,\n",
       " 135512,\n",
       " 22713,\n",
       " 227805,\n",
       " 30918,\n",
       " 130288,\n",
       " 264545,\n",
       " 283219,\n",
       " 72226,\n",
       " 74149,\n",
       " 78224,\n",
       " 260526,\n",
       " 298749,\n",
       " 69616,\n",
       " 257625,\n",
       " 268171,\n",
       " 253031,\n",
       " 250572,\n",
       " 17856,\n",
       " 64003,\n",
       " 60819,\n",
       " 273036,\n",
       " 246554,\n",
       " 243623,\n",
       " 105623,\n",
       " 241559,\n",
       " 54311,\n",
       " 240398,\n",
       " 11438,\n",
       " 301236,\n",
       " 236853,\n",
       " 46921,\n",
       " 20495,\n",
       " 233119,\n",
       " 232632,\n",
       " 126958,\n",
       " 53766,\n",
       " 23394,\n",
       " 176305,\n",
       " 6631,\n",
       " 172548,\n",
       " 145402,\n",
       " 182310,\n",
       " 142177,\n",
       " 162105,\n",
       " 201815,\n",
       " 174582,\n",
       " 149133,\n",
       " 253725,\n",
       " 28470,\n",
       " 207885,\n",
       " 159369,\n",
       " 169520,\n",
       " 216493,\n",
       " 221916,\n",
       " 136914,\n",
       " 28452,\n",
       " 251202,\n",
       " 173515,\n",
       " 31969,\n",
       " 296701,\n",
       " 295661,\n",
       " 276464,\n",
       " 30330,\n",
       " 163379,\n",
       " 88700,\n",
       " 39862,\n",
       " 206039,\n",
       " 80286,\n",
       " 79630,\n",
       " 79094,\n",
       " 252192,\n",
       " 286874,\n",
       " 261176,\n",
       " 261416,\n",
       " 167597,\n",
       " 93286,\n",
       " 93437,\n",
       " 261824,\n",
       " 298366,\n",
       " 285976,\n",
       " 286964,\n",
       " 168460,\n",
       " 285890,\n",
       " 40214,\n",
       " 76621,\n",
       " 262616,\n",
       " 263095,\n",
       " 94237,\n",
       " 195655,\n",
       " 75454,\n",
       " 75391,\n",
       " 74999,\n",
       " 264159,\n",
       " 206343,\n",
       " 39654,\n",
       " 299627,\n",
       " 91731,\n",
       " 286815,\n",
       " 295956,\n",
       " 255297,\n",
       " 164042,\n",
       " 255693,\n",
       " 256349,\n",
       " 38298,\n",
       " 14970,\n",
       " 90213,\n",
       " 15050,\n",
       " 208398,\n",
       " 208129,\n",
       " 163523,\n",
       " 37194,\n",
       " 257867,\n",
       " 305297,\n",
       " 39181,\n",
       " 21602,\n",
       " 258590,\n",
       " 165759,\n",
       " 258677,\n",
       " 82378,\n",
       " 91119,\n",
       " 39368,\n",
       " 258872,\n",
       " 82052,\n",
       " 206391,\n",
       " 252771,\n",
       " 166893,\n",
       " 37383,\n",
       " 258515,\n",
       " 107564,\n",
       " 298175,\n",
       " 196916,\n",
       " 275842,\n",
       " 275166,\n",
       " 56250,\n",
       " 179498,\n",
       " 184848,\n",
       " 274497,\n",
       " 283243,\n",
       " 199949,\n",
       " 273896,\n",
       " 57929,\n",
       " 177586,\n",
       " 177177,\n",
       " 59869,\n",
       " 177129,\n",
       " 19280,\n",
       " 20775,\n",
       " 181057,\n",
       " 181194,\n",
       " 281546,\n",
       " 45675,\n",
       " 181573,\n",
       " 280649,\n",
       " 45464,\n",
       " 49253,\n",
       " 43924,\n",
       " 198466,\n",
       " 50442,\n",
       " 183189,\n",
       " 51535,\n",
       " 52099,\n",
       " 198478,\n",
       " 52627,\n",
       " 196973,\n",
       " 43525,\n",
       " 272842,\n",
       " 60804,\n",
       " 1471,\n",
       " 172171,\n",
       " 265963,\n",
       " 172160,\n",
       " 185242,\n",
       " 71694,\n",
       " 172044,\n",
       " 265249,\n",
       " 41287,\n",
       " 264649,\n",
       " 264617,\n",
       " 171981,\n",
       " 171174,\n",
       " 16724,\n",
       " 204299,\n",
       " 40740,\n",
       " 68743,\n",
       " 20906,\n",
       " 267249,\n",
       " 66779,\n",
       " 272362,\n",
       " 62621,\n",
       " 1536,\n",
       " 270718,\n",
       " 270492,\n",
       " 283688,\n",
       " 270216,\n",
       " 285400,\n",
       " 176515,\n",
       " 284507,\n",
       " 269888,\n",
       " 64698,\n",
       " 65422,\n",
       " 65457,\n",
       " 65920,\n",
       " 175248,\n",
       " 270026,\n",
       " 415,\n",
       " 162138,\n",
       " 249646,\n",
       " 150368,\n",
       " 125529,\n",
       " 188829,\n",
       " 217944,\n",
       " 127120,\n",
       " 149254,\n",
       " 193766,\n",
       " 127814,\n",
       " 148247,\n",
       " 148201,\n",
       " 302156,\n",
       " 229575,\n",
       " 147721,\n",
       " 218757,\n",
       " 128206,\n",
       " 30069,\n",
       " 124940,\n",
       " 150423,\n",
       " 232453,\n",
       " 119848,\n",
       " 119935,\n",
       " 120032,\n",
       " 120643,\n",
       " 304101,\n",
       " 217077,\n",
       " 36155,\n",
       " 291112,\n",
       " 121662,\n",
       " 217374,\n",
       " 150598,\n",
       " 301647,\n",
       " 5459,\n",
       " 124179,\n",
       " 124363,\n",
       " 124610,\n",
       " 233983,\n",
       " 119345,\n",
       " 128466,\n",
       " 228005,\n",
       " 142451,\n",
       " 6858,\n",
       " 135872,\n",
       " 28132,\n",
       " 27729,\n",
       " 24897,\n",
       " 136935,\n",
       " 138100,\n",
       " 138755,\n",
       " 222323,\n",
       " 138953,\n",
       " 139109,\n",
       " 222266,\n",
       " 222099,\n",
       " 221978,\n",
       " 221249,\n",
       " 221112,\n",
       " 302778,\n",
       " 8341,\n",
       " 295344,\n",
       " 227731,\n",
       " 219343,\n",
       " 227708,\n",
       " 145769,\n",
       " 28796,\n",
       " 130493,\n",
       " 229113,\n",
       " 130916,\n",
       " 131823,\n",
       " 144625,\n",
       " 132338,\n",
       " 144122,\n",
       " 133400,\n",
       " 302669,\n",
       " 224908,\n",
       " 131201,\n",
       " 216114,\n",
       " 234351,\n",
       " 157875,\n",
       " 101703,\n",
       " 245609,\n",
       " 33128,\n",
       " 211983,\n",
       " 244920,\n",
       " 212006,\n",
       " 244739,\n",
       " 211763,\n",
       " 103718,\n",
       " 4352,\n",
       " 104418,\n",
       " 212389,\n",
       " 118700,\n",
       " 157775,\n",
       " 213047,\n",
       " 241723,\n",
       " 22029,\n",
       " 241400,\n",
       " 101628,\n",
       " 211360,\n",
       " 96620,\n",
       " 249302,\n",
       " 98439,\n",
       " 13493,\n",
       " 35685,\n",
       " 369,\n",
       " 98952,\n",
       " 33328,\n",
       " 248341,\n",
       " 99137,\n",
       " 34561,\n",
       " 161187,\n",
       " 99670,\n",
       " 99833,\n",
       " 99961,\n",
       " 247561,\n",
       " 35054,\n",
       " 294904,\n",
       " 45976,\n",
       " 112058,\n",
       " 153734,\n",
       " 30936,\n",
       " 155938,\n",
       " 107599,\n",
       " 116396,\n",
       " 116833,\n",
       " 237543,\n",
       " 187506,\n",
       " 238121,\n",
       " 155334,\n",
       " 195245,\n",
       " 239409,\n",
       " 237080,\n",
       " 108456,\n",
       " 241065,\n",
       " 213781,\n",
       " 240731,\n",
       " 288950,\n",
       " 156463,\n",
       " 33006,\n",
       " 156623,\n",
       " 110468,\n",
       " 289297,\n",
       " 110896,\n",
       " 152520,\n",
       " 33263,\n",
       " 265952,\n",
       " 278752,\n",
       " 307456,\n",
       " 30378,\n",
       " 46737,\n",
       " 190276,\n",
       " 47407,\n",
       " 248931,\n",
       " 169726,\n",
       " 63673,\n",
       " 117986,\n",
       " 41788,\n",
       " 302873,\n",
       " 53940,\n",
       " 247720,\n",
       " 288725,\n",
       " 62974,\n",
       " 41812,\n",
       " 124178,\n",
       " 60381,\n",
       " 68971,\n",
       " 21233,\n",
       " 492,\n",
       " 24578,\n",
       " 307359,\n",
       " 296011,\n",
       " 42181,\n",
       " 296275,\n",
       " 303513,\n",
       " 279813,\n",
       " 165321,\n",
       " 256367,\n",
       " 208746,\n",
       " 90903,\n",
       " 92480,\n",
       " 198000,\n",
       " 249724,\n",
       " 99061,\n",
       " 246118,\n",
       " 245509,\n",
       " 102808,\n",
       " 244654,\n",
       " 157088,\n",
       " 4528,\n",
       " 300817,\n",
       " 115088,\n",
       " 236751,\n",
       " 117875,\n",
       " 232287,\n",
       " 231775,\n",
       " 230269,\n",
       " 229381,\n",
       " 146851,\n",
       " 226870,\n",
       " 136313,\n",
       " 303540,\n",
       " 142040,\n",
       " 260509,\n",
       " 261207,\n",
       " 250001,\n",
       " 168716,\n",
       " 264352,\n",
       " 17069,\n",
       " 74256,\n",
       " 57227,\n",
       " 268495,\n",
       " 263278,\n",
       " 205062,\n",
       " 176698,\n",
       " 48746,\n",
       " 54848,\n",
       " 204890,\n",
       " 134705,\n",
       " 187574,\n",
       " 214719,\n",
       " 274718,\n",
       " 43465,\n",
       " 184576,\n",
       " 180236,\n",
       " 277818,\n",
       " 54178,\n",
       " 31019,\n",
       " 130349,\n",
       " 183199,\n",
       " 181385,\n",
       " 292221,\n",
       " 50114,\n",
       " 136835,\n",
       " 142274,\n",
       " 29636,\n",
       " 113863,\n",
       " 176681,\n",
       " 213912,\n",
       " 259992,\n",
       " 207101,\n",
       " 88995,\n",
       " 89095,\n",
       " 208999,\n",
       " 162742,\n",
       " 73590,\n",
       " 264969,\n",
       " 35925,\n",
       " 248522,\n",
       " 209859,\n",
       " 99455,\n",
       " 195509,\n",
       " 211269,\n",
       " 71357,\n",
       " 172335,\n",
       " 174306,\n",
       " 186615,\n",
       " 64287,\n",
       " 77027,\n",
       " 239837,\n",
       " 238019,\n",
       " 259453,\n",
       " 71,\n",
       " 305644,\n",
       " 299263,\n",
       " 13308,\n",
       " 12782,\n",
       " 23124,\n",
       " 103345,\n",
       " 220106,\n",
       " 100844,\n",
       " 127022,\n",
       " 203570,\n",
       " 235943,\n",
       " 148502,\n",
       " 277363,\n",
       " 245104,\n",
       " 182245,\n",
       " 197331,\n",
       " 192603,\n",
       " 212918,\n",
       " 297560,\n",
       " 270302,\n",
       " 24924,\n",
       " 48002,\n",
       " 222264,\n",
       " 306759,\n",
       " 62501,\n",
       " 127107,\n",
       " 53236,\n",
       " 111417,\n",
       " 44179,\n",
       " 268931,\n",
       " 142742,\n",
       " 62989,\n",
       " 74750,\n",
       " 184301,\n",
       " 155764,\n",
       " 244682,\n",
       " 24057,\n",
       " 292162,\n",
       " 172491,\n",
       " 22823,\n",
       " 17495,\n",
       " 220284,\n",
       " 118104,\n",
       " 185264,\n",
       " 264446,\n",
       " 240093,\n",
       " 142818,\n",
       " 305640,\n",
       " 240417,\n",
       " 268759,\n",
       " 121800,\n",
       " 297575,\n",
       " 109724,\n",
       " 39688,\n",
       " 167066,\n",
       " 134217,\n",
       " 206109,\n",
       " 21250,\n",
       " 39920,\n",
       " 197022,\n",
       " 64896,\n",
       " 65405,\n",
       " 269172,\n",
       " 167407,\n",
       " 40607,\n",
       " 234312,\n",
       " 181841,\n",
       " 239481,\n",
       " 41635,\n",
       " 271088,\n",
       " 221422,\n",
       " 142061,\n",
       " 111070,\n",
       " 120980,\n",
       " 41445,\n",
       " 270566,\n",
       " 284885,\n",
       " 221354,\n",
       " 284957,\n",
       " 41254,\n",
       " 205915,\n",
       " 40955,\n",
       " 40848,\n",
       " 135261,\n",
       " 168346,\n",
       " 182434,\n",
       " 239823,\n",
       " 182729,\n",
       " 296117,\n",
       " 296024,\n",
       " 269771,\n",
       " 40472,\n",
       " 167737,\n",
       " 234330,\n",
       " 205891,\n",
       " 182889,\n",
       " 270421,\n",
       " 109345,\n",
       " 108823,\n",
       " 301586,\n",
       " 35659,\n",
       " 73364,\n",
       " 35671,\n",
       " 35677,\n",
       " 73340,\n",
       " 73284,\n",
       " 184659,\n",
       " 35615,\n",
       " 200275,\n",
       " 242496,\n",
       " 123683,\n",
       " 72447,\n",
       " 265162,\n",
       " 208728,\n",
       " 287253,\n",
       " 72413,\n",
       " 232813,\n",
       " 72369,\n",
       " 243050,\n",
       " 209284,\n",
       " 219381,\n",
       " 74227,\n",
       " 196278,\n",
       " 124325,\n",
       " 74225,\n",
       " 264227,\n",
       " 288037,\n",
       " 163057,\n",
       " 21826,\n",
       " 133378,\n",
       " 73930,\n",
       " 124134,\n",
       " 225389,\n",
       " 16535,\n",
       " 243161,\n",
       " 264382,\n",
       " 74060,\n",
       " 72350,\n",
       " 144900,\n",
       " 106528,\n",
       " 68549,\n",
       " 133943,\n",
       " 68548,\n",
       " 297719,\n",
       " 225013,\n",
       " 267393,\n",
       " 207636,\n",
       " 143534,\n",
       " 108119,\n",
       " 803,\n",
       " 169450,\n",
       " 38811,\n",
       " 67068,\n",
       " 122329,\n",
       " 108976,\n",
       " 134084,\n",
       " 68085,\n",
       " 165354,\n",
       " 220556,\n",
       " 69144,\n",
       " 164098,\n",
       " 225224,\n",
       " 265659,\n",
       " 265814,\n",
       " 233224,\n",
       " 208297,\n",
       " 70947,\n",
       " 144366,\n",
       " 144282,\n",
       " 164360,\n",
       " 266149,\n",
       " 107257,\n",
       " 69826,\n",
       " 233384,\n",
       " 107492,\n",
       " 220436,\n",
       " 241387,\n",
       " 183658,\n",
       " 238758,\n",
       " 250164,\n",
       " 2928,\n",
       " 201325,\n",
       " 53089,\n",
       " 296702,\n",
       " 115796,\n",
       " 235530,\n",
       " 52932,\n",
       " 280719,\n",
       " 46524,\n",
       " 52598,\n",
       " 277896,\n",
       " 176221,\n",
       " 280463,\n",
       " 116336,\n",
       " 118419,\n",
       " 178560,\n",
       " 47138,\n",
       " 52515,\n",
       " 47166,\n",
       " 199364,\n",
       " 301371,\n",
       " 236892,\n",
       " 201673,\n",
       " 45771,\n",
       " 54044,\n",
       " 45801,\n",
       " 222523,\n",
       " 11356,\n",
       " 53289,\n",
       " 179140,\n",
       " 277188,\n",
       " 46041,\n",
       " 281384,\n",
       " 236765,\n",
       " 223696,\n",
       " 118805,\n",
       " 175353,\n",
       " 20306,\n",
       " 51903,\n",
       " 51595,\n",
       " 47316,\n",
       " 117985,\n",
       " 50158,\n",
       " 117024,\n",
       " 279092,\n",
       " 223089,\n",
       " 137910,\n",
       " 49589,\n",
       " 138122,\n",
       " 177656,\n",
       " 49434,\n",
       " 117729,\n",
       " 223326,\n",
       " 200211,\n",
       " 49161,\n",
       " 200346,\n",
       " 279441,\n",
       " 48465,\n",
       " 278885,\n",
       " 50432,\n",
       " 50576,\n",
       " 201054,\n",
       " 278187,\n",
       " 51385,\n",
       " 278203,\n",
       " 47452,\n",
       " 118123,\n",
       " 235873,\n",
       " 47592,\n",
       " 51010,\n",
       " 47635,\n",
       " 222802,\n",
       " 176648,\n",
       " 199875,\n",
       " 278520,\n",
       " 280124,\n",
       " 50865,\n",
       " 278658,\n",
       " 136340,\n",
       " 141808,\n",
       " 276878,\n",
       " 276823,\n",
       " 141112,\n",
       " 18566,\n",
       " 272939,\n",
       " 171000,\n",
       " 203783,\n",
       " 283362,\n",
       " 43045,\n",
       " 283452,\n",
       " 59810,\n",
       " 273047,\n",
       " 282974,\n",
       " 171505,\n",
       " 273247,\n",
       " 273601,\n",
       " 113228,\n",
       " 296378,\n",
       " 203754,\n",
       " 306105,\n",
       " 60318,\n",
       " 181445,\n",
       " 238607,\n",
       " 11472,\n",
       " 272097,\n",
       " 112080,\n",
       " 42127,\n",
       " 18328,\n",
       " 221644,\n",
       " 272626,\n",
       " 288180,\n",
       " 238145,\n",
       " 112390,\n",
       " 42320,\n",
       " 170240,\n",
       " 120422,\n",
       " 238131,\n",
       " 284171,\n",
       " 296174,\n",
       " 113384,\n",
       " 43579,\n",
       " 57852,\n",
       " 119431,\n",
       " 281946,\n",
       " 223806,\n",
       " 275371,\n",
       " 180398,\n",
       " 275484,\n",
       " 202104,\n",
       " 173633,\n",
       " 306283,\n",
       " 174046,\n",
       " 55500,\n",
       " 55490,\n",
       " 301045,\n",
       " 55081,\n",
       " 54701,\n",
       " 201799,\n",
       " 173990,\n",
       " 18970,\n",
       " 173578,\n",
       " 237181,\n",
       " 43727,\n",
       " 43787,\n",
       " 222073,\n",
       " 223954,\n",
       " 172730,\n",
       " 203117,\n",
       " 113755,\n",
       " 222078,\n",
       " 300996,\n",
       " 119709,\n",
       " 198963,\n",
       " 140189,\n",
       " 2031,\n",
       " 282633,\n",
       " 56499,\n",
       " 44386,\n",
       " 56441,\n",
       " 281615,\n",
       " 135581,\n",
       " 117562,\n",
       " 34678,\n",
       " 87642,\n",
       " 255695,\n",
       " 99518,\n",
       " 292026,\n",
       " 99526,\n",
       " 154893,\n",
       " 229860,\n",
       " 255687,\n",
       " 255966,\n",
       " 291937,\n",
       " 87249,\n",
       " 291851,\n",
       " 9450,\n",
       " 87151,\n",
       " 247723,\n",
       " 86688,\n",
       " 214529,\n",
       " 230497,\n",
       " 148420,\n",
       " 214693,\n",
       " 226745,\n",
       " 26918,\n",
       " 148685,\n",
       " 26960,\n",
       " 148684,\n",
       " 255193,\n",
       " 154263,\n",
       " 248063,\n",
       " 292547,\n",
       " 27318,\n",
       " 189826,\n",
       " 27394,\n",
       " 255315,\n",
       " 189768,\n",
       " 255441,\n",
       " 154657,\n",
       " 128423,\n",
       " 155221,\n",
       " 188807,\n",
       " 155363,\n",
       " 84409,\n",
       " ...]"
      ]
     },
     "execution_count": 92,
     "metadata": {},
     "output_type": "execute_result"
    }
   ],
   "source": [
    "list(cdf.index)"
   ]
  },
  {
   "cell_type": "code",
   "execution_count": 98,
   "metadata": {},
   "outputs": [
    {
     "data": {
      "text/plain": [
       "(-0.05, 1.05)"
      ]
     },
     "execution_count": 98,
     "metadata": {},
     "output_type": "execute_result"
    },
    {
     "data": {
      "image/png": "[encoded data removed]",
      "text/plain": [
       "<Figure size 432x288 with 1 Axes>"
      ]
     },
     "metadata": {
      "needs_background": "light"
     },
     "output_type": "display_data"
    }
   ],
   "source": [
    "Sort_data=list(app_train['AMT_INCOME_TOTAL'].sort_values())\n",
    "Density  = np.arange(1,len(Sort_data)+1)/len(Sort_data)\n",
    "\n",
    "plt.plot(Sort_data, Density)\n",
    "plt.xlabel('Value')\n",
    "plt.ylabel('ECDF')\n",
    "plt.xlim([cdf.index.min(), cdf.index.max() * 1.05]) # 限制顯示圖片的範圍\n",
    "plt.ylim([-0.05,1.05]) # 限制顯示圖片的範圍"
   ]
  },
  {
   "cell_type": "code",
   "execution_count": 99,
   "metadata": {},
   "outputs": [
    {
     "name": "stdout",
     "output_type": "stream",
     "text": [
      "count    8.602000e+03\n",
      "mean     2.228724e+05\n",
      "std      1.414204e+05\n",
      "min      3.375000e+04\n",
      "25%      1.350000e+05\n",
      "50%      1.935000e+05\n",
      "75%      2.700000e+05\n",
      "max      4.500000e+06\n",
      "Name: AMT_INCOME_TOTAL, dtype: float64\n"
     ]
    },
    {
     "data": {
      "image/png": "[encoded data removed]",
      "text/plain": [
       "<Figure size 432x288 with 1 Axes>"
      ]
     },
     "metadata": {
      "needs_background": "light"
     },
     "output_type": "display_data"
    }
   ],
   "source": [
    "# 最大值離平均與中位數很遠\n",
    "print(app_train['AMT_INCOME_TOTAL'].describe())\n",
    "\n",
    "# 繪製 Empirical Cumulative Density Plot (ECDF)\n",
    "\n",
    "# 改變 y 軸的 Scale, 讓我們可以正常檢視 ECDF\n",
    "plt.plot(np.log(Sort_data), Density)\n",
    "plt.xlabel('Value (log-scale)')\n",
    "plt.ylabel('ECDF')\n",
    "\n",
    "plt.ylim([-0.05,1.05]) # 限制顯示圖片的範圍\n",
    "\n",
    "plt.show()"
   ]
  },
  {
   "cell_type": "code",
   "execution_count": null,
   "metadata": {},
   "outputs": [],
   "source": []
  }
 ],
 "metadata": {
  "kernelspec": {
   "display_name": "Python 3",
   "language": "python",
   "name": "python3"
  },
  "language_info": {
   "codemirror_mode": {
    "name": "ipython",
    "version": 3
   },
   "file_extension": ".py",
   "mimetype": "text/x-python",
   "name": "python",
   "nbconvert_exporter": "python",
   "pygments_lexer": "ipython3",
   "version": "3.7.3"
  }
 },
 "nbformat": 4,
 "nbformat_minor": 2
}
