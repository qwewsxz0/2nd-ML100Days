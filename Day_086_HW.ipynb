{
 "cells": [
  {
   "cell_type": "markdown",
   "metadata": {},
   "source": [
    "## 範例重點\n",
    "* 學習如何在 keras 中加入 model checkpoint\n",
    "* 知道如何設定監控目標\n",
    "* 比較使用最佳與非最佳參數時的 performance"
   ]
  },
  {
   "cell_type": "code",
   "execution_count": 1,
   "metadata": {},
   "outputs": [
    {
     "name": "stderr",
     "output_type": "stream",
     "text": [
      "Using TensorFlow backend.\n"
     ]
    }
   ],
   "source": [
    "import os\n",
    "import keras\n",
    "\n",
    "# 本範例不需使用 GPU, 將 GPU 設定為 \"無\"\n",
    "os.environ[\"CUDA_VISIBLE_DEVICES\"] = \"\""
   ]
  },
  {
   "cell_type": "code",
   "execution_count": 2,
   "metadata": {},
   "outputs": [],
   "source": [
    "train, test = keras.datasets.cifar10.load_data()"
   ]
  },
  {
   "cell_type": "code",
   "execution_count": 3,
   "metadata": {},
   "outputs": [],
   "source": [
    "## 資料前處理\n",
    "def preproc_x(x, flatten=True):\n",
    "    x = x / 255.\n",
    "    if flatten:\n",
    "        x = x.reshape((len(x), -1))\n",
    "    return x\n",
    "\n",
    "def preproc_y(y, num_classes=10):\n",
    "    if y.shape[-1] == 1:\n",
    "        y = keras.utils.to_categorical(y, num_classes)\n",
    "    return y    "
   ]
  },
  {
   "cell_type": "code",
   "execution_count": 4,
   "metadata": {},
   "outputs": [],
   "source": [
    "x_train, y_train = train\n",
    "x_test, y_test = test\n",
    "\n",
    "# 資料前處理 - X 標準化\n",
    "x_train = preproc_x(x_train)\n",
    "x_test = preproc_x(x_test)\n",
    "\n",
    "# 資料前處理 -Y 轉成 onehot\n",
    "y_train = preproc_y(y_train)\n",
    "y_test = preproc_y(y_test)"
   ]
  },
  {
   "cell_type": "code",
   "execution_count": 5,
   "metadata": {},
   "outputs": [],
   "source": [
    "from keras.layers import BatchNormalization\n",
    "\n",
    "\"\"\"\n",
    "建立神經網路，並加入 BN layer\n",
    "\"\"\"\n",
    "def build_mlp(input_shape, output_units=10, num_neurons=[512, 256, 128]):\n",
    "    input_layer = keras.layers.Input(input_shape)\n",
    "    \n",
    "    for i, n_units in enumerate(num_neurons):\n",
    "        if i == 0:\n",
    "            x = keras.layers.Dense(units=n_units, \n",
    "                                   activation=\"relu\", \n",
    "                                   name=\"hidden_layer\"+str(i+1))(input_layer)\n",
    "            x = BatchNormalization()(x)\n",
    "        else:\n",
    "            x = keras.layers.Dense(units=n_units, \n",
    "                                   activation=\"relu\", \n",
    "                                   name=\"hidden_layer\"+str(i+1))(x)\n",
    "            x = BatchNormalization()(x)\n",
    "    \n",
    "    out = keras.layers.Dense(units=output_units, activation=\"softmax\", name=\"output\")(x)\n",
    "    \n",
    "    model = keras.models.Model(inputs=[input_layer], outputs=[out])\n",
    "    return model"
   ]
  },
  {
   "cell_type": "code",
   "execution_count": 6,
   "metadata": {},
   "outputs": [],
   "source": [
    "## 超參數設定\n",
    "LEARNING_RATE = 1e-3\n",
    "EPOCHS = 30\n",
    "BATCH_SIZE = 1024\n",
    "MOMENTUM = 0.95"
   ]
  },
  {
   "cell_type": "code",
   "execution_count": 8,
   "metadata": {},
   "outputs": [],
   "source": [
    "\"\"\"\n",
    "# 載入 Callbacks, 並將監控目標設為 validation loss, 且只存最佳參數時的模型\n",
    "\"\"\"\n",
    "from keras.callbacks import ModelCheckpoint\n",
    "\n",
    "model_ckpt = ModelCheckpoint(filepath=\"./tmp.h5\", \n",
    "                             monitor=\"val_loss\", \n",
    "                             save_best_only=True)"
   ]
  },
  {
   "cell_type": "code",
   "execution_count": 9,
   "metadata": {
    "scrolled": true
   },
   "outputs": [
    {
     "name": "stdout",
     "output_type": "stream",
     "text": [
      "WARNING:tensorflow:From C:\\Users\\User\\Anaconda3\\envs\\tensorflow\\lib\\site-packages\\tensorflow\\python\\framework\\op_def_library.py:263: colocate_with (from tensorflow.python.framework.ops) is deprecated and will be removed in a future version.\n",
      "Instructions for updating:\n",
      "Colocations handled automatically by placer.\n",
      "_________________________________________________________________\n",
      "Layer (type)                 Output Shape              Param #   \n",
      "=================================================================\n",
      "input_1 (InputLayer)         (None, 3072)              0         \n",
      "_________________________________________________________________\n",
      "hidden_layer1 (Dense)        (None, 512)               1573376   \n",
      "_________________________________________________________________\n",
      "batch_normalization_1 (Batch (None, 512)               2048      \n",
      "_________________________________________________________________\n",
      "hidden_layer2 (Dense)        (None, 256)               131328    \n",
      "_________________________________________________________________\n",
      "batch_normalization_2 (Batch (None, 256)               1024      \n",
      "_________________________________________________________________\n",
      "hidden_layer3 (Dense)        (None, 128)               32896     \n",
      "_________________________________________________________________\n",
      "batch_normalization_3 (Batch (None, 128)               512       \n",
      "_________________________________________________________________\n",
      "output (Dense)               (None, 10)                1290      \n",
      "=================================================================\n",
      "Total params: 1,742,474\n",
      "Trainable params: 1,740,682\n",
      "Non-trainable params: 1,792\n",
      "_________________________________________________________________\n",
      "WARNING:tensorflow:From C:\\Users\\User\\Anaconda3\\envs\\tensorflow\\lib\\site-packages\\tensorflow\\python\\ops\\math_ops.py:3066: to_int32 (from tensorflow.python.ops.math_ops) is deprecated and will be removed in a future version.\n",
      "Instructions for updating:\n",
      "Use tf.cast instead.\n",
      "Train on 50000 samples, validate on 10000 samples\n",
      "Epoch 1/30\n",
      "50000/50000 [==============================] - 7s 150us/step - loss: 2.2156 - acc: 0.2727 - val_loss: 2.1077 - val_acc: 0.3212\n",
      "Epoch 2/30\n",
      "50000/50000 [==============================] - 6s 129us/step - loss: 1.7453 - acc: 0.3921 - val_loss: 1.7986 - val_acc: 0.3880\n",
      "Epoch 3/30\n",
      "50000/50000 [==============================] - 7s 137us/step - loss: 1.6205 - acc: 0.4342 - val_loss: 1.6880 - val_acc: 0.4140\n",
      "Epoch 4/30\n",
      "50000/50000 [==============================] - 7s 139us/step - loss: 1.5475 - acc: 0.4575 - val_loss: 1.6244 - val_acc: 0.4320\n",
      "Epoch 5/30\n",
      "50000/50000 [==============================] - 8s 153us/step - loss: 1.4921 - acc: 0.4792 - val_loss: 1.5916 - val_acc: 0.4430\n",
      "Epoch 6/30\n",
      "50000/50000 [==============================] - 7s 143us/step - loss: 1.4479 - acc: 0.4936 - val_loss: 1.5676 - val_acc: 0.4493\n",
      "Epoch 7/30\n",
      "50000/50000 [==============================] - 7s 132us/step - loss: 1.4078 - acc: 0.5091 - val_loss: 1.5391 - val_acc: 0.4614\n",
      "Epoch 8/30\n",
      "50000/50000 [==============================] - 7s 132us/step - loss: 1.3743 - acc: 0.5217 - val_loss: 1.5202 - val_acc: 0.4665\n",
      "Epoch 9/30\n",
      "50000/50000 [==============================] - 7s 131us/step - loss: 1.3417 - acc: 0.5324 - val_loss: 1.5144 - val_acc: 0.4644\n",
      "Epoch 10/30\n",
      "50000/50000 [==============================] - 6s 128us/step - loss: 1.3133 - acc: 0.5419 - val_loss: 1.5100 - val_acc: 0.4676\n",
      "Epoch 11/30\n",
      "50000/50000 [==============================] - 6s 129us/step - loss: 1.2835 - acc: 0.5539 - val_loss: 1.4880 - val_acc: 0.4741\n",
      "Epoch 12/30\n",
      "50000/50000 [==============================] - 6s 124us/step - loss: 1.2567 - acc: 0.5646 - val_loss: 1.4799 - val_acc: 0.4791\n",
      "Epoch 13/30\n",
      "50000/50000 [==============================] - 6s 128us/step - loss: 1.2320 - acc: 0.5740 - val_loss: 1.4703 - val_acc: 0.4845\n",
      "Epoch 14/30\n",
      "50000/50000 [==============================] - 6s 130us/step - loss: 1.2058 - acc: 0.5833 - val_loss: 1.4723 - val_acc: 0.4796\n",
      "Epoch 15/30\n",
      "50000/50000 [==============================] - 6s 129us/step - loss: 1.1833 - acc: 0.5922 - val_loss: 1.4632 - val_acc: 0.4893\n",
      "Epoch 16/30\n",
      "50000/50000 [==============================] - 6s 127us/step - loss: 1.1604 - acc: 0.5991 - val_loss: 1.4683 - val_acc: 0.4815\n",
      "Epoch 17/30\n",
      "50000/50000 [==============================] - 6s 128us/step - loss: 1.1375 - acc: 0.6087 - val_loss: 1.4552 - val_acc: 0.4905\n",
      "Epoch 18/30\n",
      "50000/50000 [==============================] - 7s 133us/step - loss: 1.1141 - acc: 0.6156 - val_loss: 1.4617 - val_acc: 0.4852\n",
      "Epoch 19/30\n",
      "50000/50000 [==============================] - 6s 129us/step - loss: 1.0917 - acc: 0.6260 - val_loss: 1.4530 - val_acc: 0.4959\n",
      "Epoch 20/30\n",
      "50000/50000 [==============================] - 6s 128us/step - loss: 1.0691 - acc: 0.6349 - val_loss: 1.4585 - val_acc: 0.4875\n",
      "Epoch 21/30\n",
      "50000/50000 [==============================] - 7s 136us/step - loss: 1.0487 - acc: 0.6425 - val_loss: 1.4660 - val_acc: 0.4909\n",
      "Epoch 22/30\n",
      "50000/50000 [==============================] - 7s 135us/step - loss: 1.0286 - acc: 0.6515 - val_loss: 1.4736 - val_acc: 0.4908\n",
      "Epoch 23/30\n",
      "50000/50000 [==============================] - 7s 132us/step - loss: 1.0073 - acc: 0.6582 - val_loss: 1.4584 - val_acc: 0.4955\n",
      "Epoch 24/30\n",
      "50000/50000 [==============================] - 7s 131us/step - loss: 0.9861 - acc: 0.6659 - val_loss: 1.4609 - val_acc: 0.4972\n",
      "Epoch 25/30\n",
      "50000/50000 [==============================] - 6s 128us/step - loss: 0.9667 - acc: 0.6745 - val_loss: 1.4561 - val_acc: 0.4975\n",
      "Epoch 26/30\n",
      "50000/50000 [==============================] - 7s 136us/step - loss: 0.9442 - acc: 0.6854 - val_loss: 1.4542 - val_acc: 0.4982\n",
      "Epoch 27/30\n",
      "50000/50000 [==============================] - 6s 129us/step - loss: 0.9259 - acc: 0.6915 - val_loss: 1.4589 - val_acc: 0.5001\n",
      "Epoch 28/30\n",
      "50000/50000 [==============================] - 6s 128us/step - loss: 0.9048 - acc: 0.6987 - val_loss: 1.4789 - val_acc: 0.4958\n",
      "Epoch 29/30\n",
      "50000/50000 [==============================] - 7s 138us/step - loss: 0.8861 - acc: 0.7072 - val_loss: 1.4754 - val_acc: 0.5009\n",
      "Epoch 30/30\n",
      "50000/50000 [==============================] - 7s 133us/step - loss: 0.8674 - acc: 0.7144 - val_loss: 1.4829 - val_acc: 0.4982\n",
      "10000/10000 [==============================] - 2s 175us/step\n"
     ]
    }
   ],
   "source": [
    "model = build_mlp(input_shape=x_train.shape[1:])\n",
    "model.summary()\n",
    "optimizer = keras.optimizers.SGD(lr=LEARNING_RATE, nesterov=True, momentum=MOMENTUM)\n",
    "model.compile(loss=\"categorical_crossentropy\", metrics=[\"accuracy\"], optimizer=optimizer)\n",
    "\n",
    "model.fit(x_train, y_train, \n",
    "          epochs=EPOCHS, \n",
    "          batch_size=BATCH_SIZE, \n",
    "          validation_data=(x_test, y_test), \n",
    "          shuffle=True,\n",
    "          callbacks=[model_ckpt]\n",
    "         )\n",
    "\n",
    "# Collect results\n",
    "train_loss = model.history.history[\"loss\"]\n",
    "valid_loss = model.history.history[\"val_loss\"]\n",
    "train_acc = model.history.history[\"acc\"]\n",
    "valid_acc = model.history.history[\"val_acc\"]\n",
    "\n",
    "# Load back\n",
    "model = keras.models.load_model(\"./tmp.h5\")\n",
    "loss_loadback, acc_loadback = model.evaluate(x_test, y_test)"
   ]
  },
  {
   "cell_type": "code",
   "execution_count": 10,
   "metadata": {
    "scrolled": true
   },
   "outputs": [
    {
     "data": {
      "image/png": "[encoded data removed]",
      "text/plain": [
       "<Figure size 432x288 with 1 Axes>"
      ]
     },
     "metadata": {
      "needs_background": "light"
     },
     "output_type": "display_data"
    },
    {
     "data": {
      "image/png": "[encoded data removed]",
      "text/plain": [
       "<Figure size 432x288 with 1 Axes>"
      ]
     },
     "metadata": {
      "needs_background": "light"
     },
     "output_type": "display_data"
    }
   ],
   "source": [
    "import matplotlib.pyplot as plt\n",
    "%matplotlib inline\n",
    "\n",
    "plt.plot(range(len(train_loss)), train_loss, label=\"train loss\")\n",
    "plt.plot(range(len(valid_loss)), valid_loss, label=\"valid loss\")\n",
    "plt.hlines(y=loss_loadback, xmin=0, xmax=len(train_loss), colors='r', linestyles='--')\n",
    "plt.legend()\n",
    "plt.title(\"Loss\")\n",
    "plt.show()\n",
    "\n",
    "plt.plot(range(len(train_acc)), train_acc, label=\"train accuracy\")\n",
    "plt.plot(range(len(valid_acc)), valid_acc, label=\"valid accuracy\")\n",
    "plt.hlines(y=acc_loadback, xmin=0, xmax=len(train_loss), colors='r', linestyles='--')\n",
    "plt.legend()\n",
    "plt.title(\"Accuracy\")\n",
    "plt.show()"
   ]
  },
  {
   "cell_type": "markdown",
   "metadata": {},
   "source": [
    "## Work\n",
    "1. 試比較 save_best_only 與否的差異\n",
    "2. 請僅存入將 save_weights_only 設定為 True, 並嘗試 reset ipynb 並將模型與權重重新建回並預測 x_test"
   ]
  },
  {
   "cell_type": "code",
   "execution_count": 11,
   "metadata": {},
   "outputs": [],
   "source": [
    "## 超參數設定\n",
    "LEARNING_RATE = 1e-3\n",
    "EPOCHS = 30\n",
    "BATCH_SIZE = 1024\n",
    "MOMENTUM = 0.95"
   ]
  },
  {
   "cell_type": "code",
   "execution_count": 12,
   "metadata": {},
   "outputs": [],
   "source": [
    "model_ckpt = ModelCheckpoint(filepath=\"./tmp2.h5\", \n",
    "                             monitor=\"val_loss\", \n",
    "                             save_best_only=False)"
   ]
  },
  {
   "cell_type": "code",
   "execution_count": 13,
   "metadata": {
    "scrolled": true
   },
   "outputs": [
    {
     "name": "stdout",
     "output_type": "stream",
     "text": [
      "_________________________________________________________________\n",
      "Layer (type)                 Output Shape              Param #   \n",
      "=================================================================\n",
      "input_1 (InputLayer)         (None, 3072)              0         \n",
      "_________________________________________________________________\n",
      "hidden_layer1 (Dense)        (None, 512)               1573376   \n",
      "_________________________________________________________________\n",
      "batch_normalization_1 (Batch (None, 512)               2048      \n",
      "_________________________________________________________________\n",
      "hidden_layer2 (Dense)        (None, 256)               131328    \n",
      "_________________________________________________________________\n",
      "batch_normalization_2 (Batch (None, 256)               1024      \n",
      "_________________________________________________________________\n",
      "hidden_layer3 (Dense)        (None, 128)               32896     \n",
      "_________________________________________________________________\n",
      "batch_normalization_3 (Batch (None, 128)               512       \n",
      "_________________________________________________________________\n",
      "output (Dense)               (None, 10)                1290      \n",
      "=================================================================\n",
      "Total params: 1,742,474\n",
      "Trainable params: 1,740,682\n",
      "Non-trainable params: 1,792\n",
      "_________________________________________________________________\n",
      "Train on 50000 samples, validate on 10000 samples\n",
      "Epoch 1/30\n",
      "50000/50000 [==============================] - 6s 122us/step - loss: 2.2239 - acc: 0.2712 - val_loss: 2.1016 - val_acc: 0.3219\n",
      "Epoch 2/30\n",
      "50000/50000 [==============================] - 6s 126us/step - loss: 1.7515 - acc: 0.3946 - val_loss: 1.7873 - val_acc: 0.3830\n",
      "Epoch 3/30\n",
      "50000/50000 [==============================] - 7s 135us/step - loss: 1.6240 - acc: 0.4340 - val_loss: 1.6854 - val_acc: 0.4125\n",
      "Epoch 4/30\n",
      "50000/50000 [==============================] - 7s 147us/step - loss: 1.5512 - acc: 0.4608 - val_loss: 1.6415 - val_acc: 0.4219\n",
      "Epoch 5/30\n",
      "50000/50000 [==============================] - 7s 138us/step - loss: 1.4955 - acc: 0.4794 - val_loss: 1.5865 - val_acc: 0.4418\n",
      "Epoch 6/30\n",
      "50000/50000 [==============================] - 7s 144us/step - loss: 1.4504 - acc: 0.4967 - val_loss: 1.5685 - val_acc: 0.4479\n",
      "Epoch 7/30\n",
      "50000/50000 [==============================] - 7s 142us/step - loss: 1.4116 - acc: 0.5109 - val_loss: 1.5622 - val_acc: 0.4474\n",
      "Epoch 8/30\n",
      "50000/50000 [==============================] - 7s 133us/step - loss: 1.3744 - acc: 0.5235 - val_loss: 1.5302 - val_acc: 0.4603\n",
      "Epoch 9/30\n",
      "50000/50000 [==============================] - 6s 129us/step - loss: 1.3438 - acc: 0.5346 - val_loss: 1.5172 - val_acc: 0.4646\n",
      "Epoch 10/30\n",
      "50000/50000 [==============================] - 6s 130us/step - loss: 1.3136 - acc: 0.5454 - val_loss: 1.4995 - val_acc: 0.4743\n",
      "Epoch 11/30\n",
      "50000/50000 [==============================] - 7s 132us/step - loss: 1.2857 - acc: 0.5558 - val_loss: 1.5021 - val_acc: 0.4687\n",
      "Epoch 12/30\n",
      "50000/50000 [==============================] - 6s 129us/step - loss: 1.2586 - acc: 0.5652 - val_loss: 1.4856 - val_acc: 0.4773\n",
      "Epoch 13/30\n",
      "50000/50000 [==============================] - 7s 130us/step - loss: 1.2331 - acc: 0.5755 - val_loss: 1.4844 - val_acc: 0.4761\n",
      "Epoch 14/30\n",
      "50000/50000 [==============================] - 7s 130us/step - loss: 1.2074 - acc: 0.5864 - val_loss: 1.4828 - val_acc: 0.4725\n",
      "Epoch 15/30\n",
      "50000/50000 [==============================] - 7s 133us/step - loss: 1.1842 - acc: 0.5936 - val_loss: 1.4671 - val_acc: 0.4854\n",
      "Epoch 16/30\n",
      "50000/50000 [==============================] - 7s 132us/step - loss: 1.1582 - acc: 0.6050 - val_loss: 1.4612 - val_acc: 0.4894\n",
      "Epoch 17/30\n",
      "50000/50000 [==============================] - 7s 134us/step - loss: 1.1374 - acc: 0.6117 - val_loss: 1.4689 - val_acc: 0.4883\n",
      "Epoch 18/30\n",
      "50000/50000 [==============================] - 7s 135us/step - loss: 1.1158 - acc: 0.6191 - val_loss: 1.4627 - val_acc: 0.4849\n",
      "Epoch 19/30\n",
      "50000/50000 [==============================] - 6s 129us/step - loss: 1.0927 - acc: 0.6277 - val_loss: 1.4582 - val_acc: 0.4915\n",
      "Epoch 20/30\n",
      "50000/50000 [==============================] - 7s 133us/step - loss: 1.0714 - acc: 0.6366 - val_loss: 1.4570 - val_acc: 0.4907\n",
      "Epoch 21/30\n",
      "50000/50000 [==============================] - 6s 128us/step - loss: 1.0496 - acc: 0.6441 - val_loss: 1.4600 - val_acc: 0.4898\n",
      "Epoch 22/30\n",
      "50000/50000 [==============================] - 6s 128us/step - loss: 1.0290 - acc: 0.6531 - val_loss: 1.4817 - val_acc: 0.4835\n",
      "Epoch 23/30\n",
      "50000/50000 [==============================] - 6s 130us/step - loss: 1.0093 - acc: 0.6606 - val_loss: 1.4761 - val_acc: 0.4883\n",
      "Epoch 24/30\n",
      "50000/50000 [==============================] - 6s 128us/step - loss: 0.9889 - acc: 0.6679 - val_loss: 1.4630 - val_acc: 0.4958\n",
      "Epoch 25/30\n",
      "50000/50000 [==============================] - 6s 129us/step - loss: 0.9674 - acc: 0.6760 - val_loss: 1.4711 - val_acc: 0.4931\n",
      "Epoch 26/30\n",
      "50000/50000 [==============================] - 6s 129us/step - loss: 0.9468 - acc: 0.6840 - val_loss: 1.4675 - val_acc: 0.4913\n",
      "Epoch 27/30\n",
      "50000/50000 [==============================] - 6s 128us/step - loss: 0.9282 - acc: 0.6907 - val_loss: 1.4802 - val_acc: 0.4876\n",
      "Epoch 28/30\n",
      "50000/50000 [==============================] - 6s 129us/step - loss: 0.9064 - acc: 0.6987 - val_loss: 1.4661 - val_acc: 0.4970\n",
      "Epoch 29/30\n",
      "50000/50000 [==============================] - 7s 131us/step - loss: 0.8897 - acc: 0.7057 - val_loss: 1.4755 - val_acc: 0.4936\n",
      "Epoch 30/30\n",
      "50000/50000 [==============================] - 7s 133us/step - loss: 0.8681 - acc: 0.7149 - val_loss: 1.4885 - val_acc: 0.4898\n",
      "10000/10000 [==============================] - 2s 154us/step\n"
     ]
    }
   ],
   "source": [
    "keras.backend.clear_session() # 把舊的 Graph 清掉\n",
    "model = build_mlp(input_shape=x_train.shape[1:])\n",
    "model.summary()\n",
    "optimizer = keras.optimizers.SGD(lr=LEARNING_RATE, nesterov=True, momentum=MOMENTUM)\n",
    "model.compile(loss=\"categorical_crossentropy\", metrics=[\"accuracy\"], optimizer=optimizer)\n",
    "\n",
    "model.fit(x_train, y_train, \n",
    "          epochs=EPOCHS, \n",
    "          batch_size=BATCH_SIZE, \n",
    "          validation_data=(x_test, y_test), \n",
    "          shuffle=True,\n",
    "          callbacks=[model_ckpt]\n",
    "         )\n",
    "\n",
    "# Collect results\n",
    "train_loss = model.history.history[\"loss\"]\n",
    "valid_loss = model.history.history[\"val_loss\"]\n",
    "train_acc = model.history.history[\"acc\"]\n",
    "valid_acc = model.history.history[\"val_acc\"]\n",
    "\n",
    "# Load back\n",
    "model = keras.models.load_model(\"./tmp2.h5\")\n",
    "loss_loadback, acc_loadback = model.evaluate(x_test, y_test)"
   ]
  },
  {
   "cell_type": "code",
   "execution_count": 14,
   "metadata": {},
   "outputs": [
    {
     "data": {
      "image/png": "[encoded data removed]",
      "text/plain": [
       "<Figure size 432x288 with 1 Axes>"
      ]
     },
     "metadata": {
      "needs_background": "light"
     },
     "output_type": "display_data"
    },
    {
     "data": {
      "image/png": "[encoded data removed]",
      "text/plain": [
       "<Figure size 432x288 with 1 Axes>"
      ]
     },
     "metadata": {
      "needs_background": "light"
     },
     "output_type": "display_data"
    }
   ],
   "source": [
    "import matplotlib.pyplot as plt\n",
    "%matplotlib inline\n",
    "\n",
    "plt.plot(range(len(train_loss)), train_loss, label=\"train loss\")\n",
    "plt.plot(range(len(valid_loss)), valid_loss, label=\"valid loss\")\n",
    "plt.hlines(y=loss_loadback, xmin=0, xmax=len(train_loss), colors='r', linestyles='--')\n",
    "plt.legend()\n",
    "plt.title(\"Loss\")\n",
    "plt.show()\n",
    "\n",
    "plt.plot(range(len(train_acc)), train_acc, label=\"train accuracy\")\n",
    "plt.plot(range(len(valid_acc)), valid_acc, label=\"valid accuracy\")\n",
    "plt.hlines(y=acc_loadback, xmin=0, xmax=len(train_loss), colors='r', linestyles='--')\n",
    "plt.legend()\n",
    "plt.title(\"Accuracy\")\n",
    "plt.show()"
   ]
  },
  {
   "cell_type": "code",
   "execution_count": 6,
   "metadata": {},
   "outputs": [
    {
     "name": "stdout",
     "output_type": "stream",
     "text": [
      "WARNING:tensorflow:From C:\\Users\\User\\Anaconda3\\envs\\tensorflow\\lib\\site-packages\\tensorflow\\python\\framework\\op_def_library.py:263: colocate_with (from tensorflow.python.framework.ops) is deprecated and will be removed in a future version.\n",
      "Instructions for updating:\n",
      "Colocations handled automatically by placer.\n",
      "WARNING:tensorflow:From C:\\Users\\User\\Anaconda3\\envs\\tensorflow\\lib\\site-packages\\tensorflow\\python\\ops\\math_ops.py:3066: to_int32 (from tensorflow.python.ops.math_ops) is deprecated and will be removed in a future version.\n",
      "Instructions for updating:\n",
      "Use tf.cast instead.\n",
      "10000/10000 [==============================] - 1s 82us/step\n",
      "10000/10000 [==============================] - 1s 85us/step\n",
      "loss_loadback 1.453007244682312\n",
      "acc_loadback 0.4959\n",
      "loss_loadback2 1.4885388132095336\n",
      "acc_loadback2 0.4898\n"
     ]
    }
   ],
   "source": [
    "model = keras.models.load_model(\"./tmp.h5\")\n",
    "loss_loadback, acc_loadback = model.evaluate(x_test, y_test)\n",
    "model2 = keras.models.load_model(\"./tmp2.h5\")\n",
    "loss_loadback2, acc_loadback2 = model2.evaluate(x_test, y_test)\n",
    "print('loss_loadback',loss_loadback)\n",
    "print('acc_loadback',acc_loadback)\n",
    "print('loss_loadback2',loss_loadback2)\n",
    "print('acc_loadback2',acc_loadback2)"
   ]
  },
  {
   "cell_type": "code",
   "execution_count": null,
   "metadata": {},
   "outputs": [],
   "source": []
  },
  {
   "cell_type": "code",
   "execution_count": 7,
   "metadata": {},
   "outputs": [],
   "source": [
    "\"\"\"\n",
    "# 載入 Callbacks, 並將監控目標設為 validation loss, 且只存最佳參數時的模型\n",
    "\"\"\"\n",
    "from keras.callbacks import ModelCheckpoint\n",
    "\n",
    "model_ckpt = ModelCheckpoint(filepath=\"./tmp.h5\", \n",
    "                             monitor=\"val_loss\", \n",
    "                             save_best_only=True, save_weights_only=True)"
   ]
  },
  {
   "cell_type": "code",
   "execution_count": 8,
   "metadata": {},
   "outputs": [],
   "source": [
    "## 超參數設定\n",
    "LEARNING_RATE = 1e-3\n",
    "EPOCHS = 20\n",
    "BATCH_SIZE = 1024\n",
    "MOMENTUM = 0.95"
   ]
  },
  {
   "cell_type": "code",
   "execution_count": 9,
   "metadata": {},
   "outputs": [
    {
     "name": "stdout",
     "output_type": "stream",
     "text": [
      "_________________________________________________________________\n",
      "Layer (type)                 Output Shape              Param #   \n",
      "=================================================================\n",
      "input_1 (InputLayer)         (None, 3072)              0         \n",
      "_________________________________________________________________\n",
      "hidden_layer1 (Dense)        (None, 512)               1573376   \n",
      "_________________________________________________________________\n",
      "batch_normalization_1 (Batch (None, 512)               2048      \n",
      "_________________________________________________________________\n",
      "hidden_layer2 (Dense)        (None, 256)               131328    \n",
      "_________________________________________________________________\n",
      "batch_normalization_2 (Batch (None, 256)               1024      \n",
      "_________________________________________________________________\n",
      "hidden_layer3 (Dense)        (None, 128)               32896     \n",
      "_________________________________________________________________\n",
      "batch_normalization_3 (Batch (None, 128)               512       \n",
      "_________________________________________________________________\n",
      "output (Dense)               (None, 10)                1290      \n",
      "=================================================================\n",
      "Total params: 1,742,474\n",
      "Trainable params: 1,740,682\n",
      "Non-trainable params: 1,792\n",
      "_________________________________________________________________\n",
      "Train on 50000 samples, validate on 10000 samples\n",
      "Epoch 1/20\n",
      "50000/50000 [==============================] - 6s 129us/step - loss: 2.2109 - acc: 0.2741 - val_loss: 2.1634 - val_acc: 0.3126\n",
      "Epoch 2/20\n",
      "50000/50000 [==============================] - 6s 124us/step - loss: 1.7472 - acc: 0.3882 - val_loss: 1.8690 - val_acc: 0.3748\n",
      "Epoch 3/20\n",
      "50000/50000 [==============================] - 6s 127us/step - loss: 1.6181 - acc: 0.4323 - val_loss: 1.7281 - val_acc: 0.3999\n",
      "Epoch 4/20\n",
      "50000/50000 [==============================] - 8s 167us/step - loss: 1.5427 - acc: 0.4613 - val_loss: 1.6450 - val_acc: 0.4268\n",
      "Epoch 5/20\n",
      "50000/50000 [==============================] - 7s 147us/step - loss: 1.4848 - acc: 0.4808 - val_loss: 1.5869 - val_acc: 0.4439\n",
      "Epoch 6/20\n",
      "50000/50000 [==============================] - 7s 134us/step - loss: 1.4397 - acc: 0.4966 - val_loss: 1.5655 - val_acc: 0.4526\n",
      "Epoch 7/20\n",
      "50000/50000 [==============================] - 6s 128us/step - loss: 1.3990 - acc: 0.5100 - val_loss: 1.5444 - val_acc: 0.4562\n",
      "Epoch 8/20\n",
      "50000/50000 [==============================] - 6s 128us/step - loss: 1.3650 - acc: 0.5243 - val_loss: 1.5375 - val_acc: 0.4572\n",
      "Epoch 9/20\n",
      "50000/50000 [==============================] - 6s 128us/step - loss: 1.3309 - acc: 0.5370 - val_loss: 1.5262 - val_acc: 0.4655\n",
      "Epoch 10/20\n",
      "50000/50000 [==============================] - 6s 127us/step - loss: 1.3004 - acc: 0.5499 - val_loss: 1.5113 - val_acc: 0.4744\n",
      "Epoch 11/20\n",
      "50000/50000 [==============================] - 6s 129us/step - loss: 1.2733 - acc: 0.5585 - val_loss: 1.4867 - val_acc: 0.4833\n",
      "Epoch 12/20\n",
      "50000/50000 [==============================] - 6s 128us/step - loss: 1.2446 - acc: 0.5689 - val_loss: 1.4801 - val_acc: 0.4825\n",
      "Epoch 13/20\n",
      "50000/50000 [==============================] - 6s 129us/step - loss: 1.2175 - acc: 0.5795 - val_loss: 1.4741 - val_acc: 0.4844\n",
      "Epoch 14/20\n",
      "50000/50000 [==============================] - 6s 128us/step - loss: 1.1941 - acc: 0.5883 - val_loss: 1.4715 - val_acc: 0.4908\n",
      "Epoch 15/20\n",
      "50000/50000 [==============================] - 6s 128us/step - loss: 1.1689 - acc: 0.5970 - val_loss: 1.4637 - val_acc: 0.4881\n",
      "Epoch 16/20\n",
      "50000/50000 [==============================] - 6s 129us/step - loss: 1.1437 - acc: 0.6080 - val_loss: 1.4750 - val_acc: 0.4883\n",
      "Epoch 17/20\n",
      "50000/50000 [==============================] - 6s 130us/step - loss: 1.1208 - acc: 0.6177 - val_loss: 1.4759 - val_acc: 0.4820\n",
      "Epoch 18/20\n",
      "50000/50000 [==============================] - 6s 128us/step - loss: 1.0970 - acc: 0.6243 - val_loss: 1.4695 - val_acc: 0.4942\n",
      "Epoch 19/20\n",
      "50000/50000 [==============================] - 6s 128us/step - loss: 1.0743 - acc: 0.6342 - val_loss: 1.4642 - val_acc: 0.4948\n",
      "Epoch 20/20\n",
      "50000/50000 [==============================] - 6s 128us/step - loss: 1.0514 - acc: 0.6434 - val_loss: 1.4553 - val_acc: 0.4951\n"
     ]
    },
    {
     "ename": "OSError",
     "evalue": "Unable to open file (unable to open file: name = './tmp3.h5', errno = 2, error message = 'No such file or directory', flags = 0, o_flags = 0)",
     "output_type": "error",
     "traceback": [
      "\u001b[1;31m---------------------------------------------------------------------------\u001b[0m",
      "\u001b[1;31mOSError\u001b[0m                                   Traceback (most recent call last)",
      "\u001b[1;32m<ipython-input-9-39f7e7ce1850>\u001b[0m in \u001b[0;36m<module>\u001b[1;34m\u001b[0m\n\u001b[0;32m     20\u001b[0m \u001b[1;33m\u001b[0m\u001b[0m\n\u001b[0;32m     21\u001b[0m \u001b[1;31m# Load back\u001b[0m\u001b[1;33m\u001b[0m\u001b[1;33m\u001b[0m\u001b[1;33m\u001b[0m\u001b[0m\n\u001b[1;32m---> 22\u001b[1;33m \u001b[0mmodel\u001b[0m \u001b[1;33m=\u001b[0m \u001b[0mkeras\u001b[0m\u001b[1;33m.\u001b[0m\u001b[0mmodels\u001b[0m\u001b[1;33m.\u001b[0m\u001b[0mload_model\u001b[0m\u001b[1;33m(\u001b[0m\u001b[1;34m\"./tmp3.h5\"\u001b[0m\u001b[1;33m)\u001b[0m\u001b[1;33m\u001b[0m\u001b[1;33m\u001b[0m\u001b[0m\n\u001b[0m\u001b[0;32m     23\u001b[0m \u001b[0mloss_loadback\u001b[0m\u001b[1;33m,\u001b[0m \u001b[0macc_loadback\u001b[0m \u001b[1;33m=\u001b[0m \u001b[0mmodel\u001b[0m\u001b[1;33m.\u001b[0m\u001b[0mevaluate\u001b[0m\u001b[1;33m(\u001b[0m\u001b[0mx_test\u001b[0m\u001b[1;33m,\u001b[0m \u001b[0my_test\u001b[0m\u001b[1;33m)\u001b[0m\u001b[1;33m\u001b[0m\u001b[1;33m\u001b[0m\u001b[0m\n",
      "\u001b[1;32m~\\Anaconda3\\envs\\tensorflow\\lib\\site-packages\\keras\\engine\\saving.py\u001b[0m in \u001b[0;36mload_model\u001b[1;34m(filepath, custom_objects, compile)\u001b[0m\n\u001b[0;32m    415\u001b[0m     \u001b[0mmodel\u001b[0m \u001b[1;33m=\u001b[0m \u001b[1;32mNone\u001b[0m\u001b[1;33m\u001b[0m\u001b[1;33m\u001b[0m\u001b[0m\n\u001b[0;32m    416\u001b[0m     \u001b[0mopened_new_file\u001b[0m \u001b[1;33m=\u001b[0m \u001b[1;32mnot\u001b[0m \u001b[0misinstance\u001b[0m\u001b[1;33m(\u001b[0m\u001b[0mfilepath\u001b[0m\u001b[1;33m,\u001b[0m \u001b[0mh5py\u001b[0m\u001b[1;33m.\u001b[0m\u001b[0mGroup\u001b[0m\u001b[1;33m)\u001b[0m\u001b[1;33m\u001b[0m\u001b[1;33m\u001b[0m\u001b[0m\n\u001b[1;32m--> 417\u001b[1;33m     \u001b[0mf\u001b[0m \u001b[1;33m=\u001b[0m \u001b[0mh5dict\u001b[0m\u001b[1;33m(\u001b[0m\u001b[0mfilepath\u001b[0m\u001b[1;33m,\u001b[0m \u001b[1;34m'r'\u001b[0m\u001b[1;33m)\u001b[0m\u001b[1;33m\u001b[0m\u001b[1;33m\u001b[0m\u001b[0m\n\u001b[0m\u001b[0;32m    418\u001b[0m     \u001b[1;32mtry\u001b[0m\u001b[1;33m:\u001b[0m\u001b[1;33m\u001b[0m\u001b[1;33m\u001b[0m\u001b[0m\n\u001b[0;32m    419\u001b[0m         \u001b[0mmodel\u001b[0m \u001b[1;33m=\u001b[0m \u001b[0m_deserialize_model\u001b[0m\u001b[1;33m(\u001b[0m\u001b[0mf\u001b[0m\u001b[1;33m,\u001b[0m \u001b[0mcustom_objects\u001b[0m\u001b[1;33m,\u001b[0m \u001b[0mcompile\u001b[0m\u001b[1;33m)\u001b[0m\u001b[1;33m\u001b[0m\u001b[1;33m\u001b[0m\u001b[0m\n",
      "\u001b[1;32m~\\Anaconda3\\envs\\tensorflow\\lib\\site-packages\\keras\\utils\\io_utils.py\u001b[0m in \u001b[0;36m__init__\u001b[1;34m(self, path, mode)\u001b[0m\n\u001b[0;32m    184\u001b[0m             \u001b[0mself\u001b[0m\u001b[1;33m.\u001b[0m\u001b[0m_is_file\u001b[0m \u001b[1;33m=\u001b[0m \u001b[1;32mFalse\u001b[0m\u001b[1;33m\u001b[0m\u001b[1;33m\u001b[0m\u001b[0m\n\u001b[0;32m    185\u001b[0m         \u001b[1;32melif\u001b[0m \u001b[0misinstance\u001b[0m\u001b[1;33m(\u001b[0m\u001b[0mpath\u001b[0m\u001b[1;33m,\u001b[0m \u001b[0mstr\u001b[0m\u001b[1;33m)\u001b[0m\u001b[1;33m:\u001b[0m\u001b[1;33m\u001b[0m\u001b[1;33m\u001b[0m\u001b[0m\n\u001b[1;32m--> 186\u001b[1;33m             \u001b[0mself\u001b[0m\u001b[1;33m.\u001b[0m\u001b[0mdata\u001b[0m \u001b[1;33m=\u001b[0m \u001b[0mh5py\u001b[0m\u001b[1;33m.\u001b[0m\u001b[0mFile\u001b[0m\u001b[1;33m(\u001b[0m\u001b[0mpath\u001b[0m\u001b[1;33m,\u001b[0m \u001b[0mmode\u001b[0m\u001b[1;33m=\u001b[0m\u001b[0mmode\u001b[0m\u001b[1;33m)\u001b[0m\u001b[1;33m\u001b[0m\u001b[1;33m\u001b[0m\u001b[0m\n\u001b[0m\u001b[0;32m    187\u001b[0m             \u001b[0mself\u001b[0m\u001b[1;33m.\u001b[0m\u001b[0m_is_file\u001b[0m \u001b[1;33m=\u001b[0m \u001b[1;32mTrue\u001b[0m\u001b[1;33m\u001b[0m\u001b[1;33m\u001b[0m\u001b[0m\n\u001b[0;32m    188\u001b[0m         \u001b[1;32melif\u001b[0m \u001b[0misinstance\u001b[0m\u001b[1;33m(\u001b[0m\u001b[0mpath\u001b[0m\u001b[1;33m,\u001b[0m \u001b[0mdict\u001b[0m\u001b[1;33m)\u001b[0m\u001b[1;33m:\u001b[0m\u001b[1;33m\u001b[0m\u001b[1;33m\u001b[0m\u001b[0m\n",
      "\u001b[1;32m~\\Anaconda3\\envs\\tensorflow\\lib\\site-packages\\h5py\\_hl\\files.py\u001b[0m in \u001b[0;36m__init__\u001b[1;34m(self, name, mode, driver, libver, userblock_size, swmr, rdcc_nslots, rdcc_nbytes, rdcc_w0, track_order, **kwds)\u001b[0m\n\u001b[0;32m    392\u001b[0m                 fid = make_fid(name, mode, userblock_size,\n\u001b[0;32m    393\u001b[0m                                \u001b[0mfapl\u001b[0m\u001b[1;33m,\u001b[0m \u001b[0mfcpl\u001b[0m\u001b[1;33m=\u001b[0m\u001b[0mmake_fcpl\u001b[0m\u001b[1;33m(\u001b[0m\u001b[0mtrack_order\u001b[0m\u001b[1;33m=\u001b[0m\u001b[0mtrack_order\u001b[0m\u001b[1;33m)\u001b[0m\u001b[1;33m,\u001b[0m\u001b[1;33m\u001b[0m\u001b[1;33m\u001b[0m\u001b[0m\n\u001b[1;32m--> 394\u001b[1;33m                                swmr=swmr)\n\u001b[0m\u001b[0;32m    395\u001b[0m \u001b[1;33m\u001b[0m\u001b[0m\n\u001b[0;32m    396\u001b[0m             \u001b[1;32mif\u001b[0m \u001b[0mswmr_support\u001b[0m\u001b[1;33m:\u001b[0m\u001b[1;33m\u001b[0m\u001b[1;33m\u001b[0m\u001b[0m\n",
      "\u001b[1;32m~\\Anaconda3\\envs\\tensorflow\\lib\\site-packages\\h5py\\_hl\\files.py\u001b[0m in \u001b[0;36mmake_fid\u001b[1;34m(name, mode, userblock_size, fapl, fcpl, swmr)\u001b[0m\n\u001b[0;32m    168\u001b[0m         \u001b[1;32mif\u001b[0m \u001b[0mswmr\u001b[0m \u001b[1;32mand\u001b[0m \u001b[0mswmr_support\u001b[0m\u001b[1;33m:\u001b[0m\u001b[1;33m\u001b[0m\u001b[1;33m\u001b[0m\u001b[0m\n\u001b[0;32m    169\u001b[0m             \u001b[0mflags\u001b[0m \u001b[1;33m|=\u001b[0m \u001b[0mh5f\u001b[0m\u001b[1;33m.\u001b[0m\u001b[0mACC_SWMR_READ\u001b[0m\u001b[1;33m\u001b[0m\u001b[1;33m\u001b[0m\u001b[0m\n\u001b[1;32m--> 170\u001b[1;33m         \u001b[0mfid\u001b[0m \u001b[1;33m=\u001b[0m \u001b[0mh5f\u001b[0m\u001b[1;33m.\u001b[0m\u001b[0mopen\u001b[0m\u001b[1;33m(\u001b[0m\u001b[0mname\u001b[0m\u001b[1;33m,\u001b[0m \u001b[0mflags\u001b[0m\u001b[1;33m,\u001b[0m \u001b[0mfapl\u001b[0m\u001b[1;33m=\u001b[0m\u001b[0mfapl\u001b[0m\u001b[1;33m)\u001b[0m\u001b[1;33m\u001b[0m\u001b[1;33m\u001b[0m\u001b[0m\n\u001b[0m\u001b[0;32m    171\u001b[0m     \u001b[1;32melif\u001b[0m \u001b[0mmode\u001b[0m \u001b[1;33m==\u001b[0m \u001b[1;34m'r+'\u001b[0m\u001b[1;33m:\u001b[0m\u001b[1;33m\u001b[0m\u001b[1;33m\u001b[0m\u001b[0m\n\u001b[0;32m    172\u001b[0m         \u001b[0mfid\u001b[0m \u001b[1;33m=\u001b[0m \u001b[0mh5f\u001b[0m\u001b[1;33m.\u001b[0m\u001b[0mopen\u001b[0m\u001b[1;33m(\u001b[0m\u001b[0mname\u001b[0m\u001b[1;33m,\u001b[0m \u001b[0mh5f\u001b[0m\u001b[1;33m.\u001b[0m\u001b[0mACC_RDWR\u001b[0m\u001b[1;33m,\u001b[0m \u001b[0mfapl\u001b[0m\u001b[1;33m=\u001b[0m\u001b[0mfapl\u001b[0m\u001b[1;33m)\u001b[0m\u001b[1;33m\u001b[0m\u001b[1;33m\u001b[0m\u001b[0m\n",
      "\u001b[1;32mh5py\\_objects.pyx\u001b[0m in \u001b[0;36mh5py._objects.with_phil.wrapper\u001b[1;34m()\u001b[0m\n",
      "\u001b[1;32mh5py\\_objects.pyx\u001b[0m in \u001b[0;36mh5py._objects.with_phil.wrapper\u001b[1;34m()\u001b[0m\n",
      "\u001b[1;32mh5py\\h5f.pyx\u001b[0m in \u001b[0;36mh5py.h5f.open\u001b[1;34m()\u001b[0m\n",
      "\u001b[1;31mOSError\u001b[0m: Unable to open file (unable to open file: name = './tmp3.h5', errno = 2, error message = 'No such file or directory', flags = 0, o_flags = 0)"
     ]
    }
   ],
   "source": [
    "keras.backend.clear_session() # 把舊的 Graph 清掉\n",
    "model = build_mlp(input_shape=x_train.shape[1:])\n",
    "model.summary()\n",
    "optimizer = keras.optimizers.SGD(lr=LEARNING_RATE, nesterov=True, momentum=MOMENTUM)\n",
    "model.compile(loss=\"categorical_crossentropy\", metrics=[\"accuracy\"], optimizer=optimizer)\n",
    "\n",
    "model.fit(x_train, y_train, \n",
    "          epochs=EPOCHS, \n",
    "          batch_size=BATCH_SIZE, \n",
    "          validation_data=(x_test, y_test), \n",
    "          shuffle=True,\n",
    "          callbacks=[model_ckpt]\n",
    "         )\n",
    "\n",
    "# Collect results\n",
    "train_loss = model.history.history[\"loss\"]\n",
    "valid_loss = model.history.history[\"val_loss\"]\n",
    "train_acc = model.history.history[\"acc\"]\n",
    "valid_acc = model.history.history[\"val_acc\"]\n",
    "\n",
    "# Load back\n",
    "model = keras.models.load_model(\"./tmp3.h5\")\n",
    "loss_loadback, acc_loadback = model.evaluate(x_test, y_test)"
   ]
  },
  {
   "cell_type": "markdown",
   "metadata": {},
   "source": [
    "http://frankchen.xyz/2018/04/19/keras-reuse-model/"
   ]
  }
 ],
 "metadata": {
  "kernelspec": {
   "display_name": "Python 3",
   "language": "python",
   "name": "python3"
  },
  "language_info": {
   "codemirror_mode": {
    "name": "ipython",
    "version": 3
   },
   "file_extension": ".py",
   "mimetype": "text/x-python",
   "name": "python",
   "nbconvert_exporter": "python",
   "pygments_lexer": "ipython3",
   "version": "3.6.8"
  }
 },
 "nbformat": 4,
 "nbformat_minor": 2
}
